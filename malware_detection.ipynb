{
  "nbformat": 4,
  "nbformat_minor": 0,
  "metadata": {
    "colab": {
      "provenance": [],
      "include_colab_link": true
    },
    "kernelspec": {
      "display_name": "Python 3",
      "name": "python3"
    },
    "accelerator": "TPU"
  },
  "cells": [
    {
      "cell_type": "markdown",
      "metadata": {
        "id": "view-in-github",
        "colab_type": "text"
      },
      "source": [
        "<a href=\"https://colab.research.google.com/github/kandgesid/Data-Science-and-ML-projects/blob/master/malware_detection.ipynb\" target=\"_parent\"><img src=\"https://colab.research.google.com/assets/colab-badge.svg\" alt=\"Open In Colab\"/></a>"
      ]
    },
    {
      "cell_type": "code",
      "metadata": {
        "id": "rNKlg-TV4Osg",
        "colab": {
          "base_uri": "https://localhost:8080/"
        },
        "outputId": "4afea582-d914-44c7-caaf-0bd9d91ac9c8"
      },
      "source": [
        "from google.colab import drive\n",
        "drive.mount('/content/drive')"
      ],
      "execution_count": null,
      "outputs": [
        {
          "output_type": "stream",
          "text": [
            "Mounted at /content/drive\n"
          ],
          "name": "stdout"
        }
      ]
    },
    {
      "cell_type": "code",
      "metadata": {
        "id": "qjPC9lwnIAs4"
      },
      "source": [
        "# !unzip '/content/drive/MyDrive/malware_detection_project/malimg_dataset.zip' -d '/content/drive/MyDrive/malware_detection_project'"
      ],
      "execution_count": null,
      "outputs": []
    },
    {
      "cell_type": "code",
      "metadata": {
        "id": "KmtlZ-YstB7f"
      },
      "source": [
        "# !unzip '/content/drive/MyDrive/malware_detection_eproject/benign _file.zip' -d '/content/drive/MyDrive/malware_detection_project'"
      ],
      "execution_count": null,
      "outputs": []
    },
    {
      "cell_type": "code",
      "metadata": {
        "id": "bv2cyXhYK0do"
      },
      "source": [
        "import tensorflow as tf"
      ],
      "execution_count": null,
      "outputs": []
    },
    {
      "cell_type": "code",
      "metadata": {
        "id": "JonuB2QhO251"
      },
      "source": [
        "import numpy as np\n",
        "from math import sqrt, ceil\n",
        "import cv2\n",
        "import os\n",
        "from tensorflow.keras.preprocessing import imageex\n",
        "from tensorflow.keras.preprocessing.image import ImageDataGenerator\n",
        "from sklearn.metrics import confusion_matrix,accuracy_score\n",
        "import matplotlib.pyplot as plt\n",
        "from tensorflow.keras.callbacks import ModelCheckpoint, EarlyStopping\n",
        "from collections import Counter\n",
        "import numpy as np\n",
        "np.random.seed(1)\n",
        "import glob\n",
        "import time"
      ],
      "execution_count": null,
      "outputs": []
    },
    {
      "cell_type": "code",
      "metadata": {
        "colab": {
          "base_uri": "https://localhost:8080/",
          "height": 35
        },
        "id": "Htf1oJapTBrV",
        "outputId": "6fd1c9cd-f365-48af-b199-ab2aaee577b4"
      },
      "source": [
        "tf.__version__"
      ],
      "execution_count": null,
      "outputs": [
        {
          "output_type": "execute_result",
          "data": {
            "application/vnd.google.colaboratory.intrinsic+json": {
              "type": "string"
            },
            "text/plain": [
              "'2.4.1'"
            ]
          },
          "metadata": {
            "tags": []
          },
          "execution_count": 3
        }
      ]
    },
    {
      "cell_type": "code",
      "metadata": {
        "id": "hAjsrA_SXYjJ"
      },
      "source": [
        "# Dataset loading and spliting in train and test folder on drive..\n",
        "import shutil\n",
        "# !unzip '/content/drive/MyDrive/malware_detection_project/malimg_dataset.zip' -d '/content/drive/MyDrive/malware_detection_project'\n",
        "# !unzip '/content/drive/MyDrive/malware_detection_project/benign _file.zip' -d '/content/drive/MyDrive/malware_detection_project'\n",
        "path_root = \"/content/drive/MyDrive/malware_detection_project/malimg_paper_dataset_imgs\"\n",
        "for folder in os.listdir(path_root):\n",
        "  train_path = os.path.join('/content/drive/MyDrive/malware_detection_project/malware_dataset/train', folder)\n",
        "  os.mkdir(train_path)\n",
        "  ori_path = os.path.join(path_root, folder)\n",
        "  images_list = os.listdir(ori_path)\n",
        "  print(images_list)\n",
        "  length = len(images_list)\n",
        "  print(\"length of original file:\", length)\n",
        "  train_ratio = length // 10\n",
        "  count = 0\n",
        "  img_count = train_ratio * 7\n",
        "  print(\"count of file in train folder\", img_count)\n",
        "  for img_file in images_list:\n",
        "    if count <= img_count:\n",
        "      print(\"hello\")\n",
        "      img_path = os.path.join(ori_path, img_file)\n",
        "      shutil.move(img_path, train_path)\n",
        "      count += 1\n",
        "    else:\n",
        "      break"
      ],
      "execution_count": null,
      "outputs": []
    },
    {
      "cell_type": "code",
      "metadata": {
        "id": "XkOvFMKyLuw8"
      },
      "source": [],
      "execution_count": null,
      "outputs": []
    },
    {
      "cell_type": "code",
      "metadata": {
        "id": "DloC1P2-SI8d"
      },
      "source": [
        "def process_path(path, model):\n",
        "  if os.path.isdir(path):\n",
        "    for item in os.listdir(path):\n",
        "      if os.path.isfile(item):\n",
        "        # call is_malicoius function\n",
        "        # store result to result dictionary along with path as key.(join(path and item))\n",
        "        file_path = os.path.join(path, item)\n",
        "        res = is_malicious(file_path, model)\n",
        "        result[file_path] = res\n",
        "      elif os.path.isdir(item):\n",
        "        dir_path = os.path.join(path, item)\n",
        "        process_path(dir_path)\n",
        "        # call process_path function on item\n",
        "      else:\n",
        "        print(\"File/directory not exist..\")\n",
        "        exit()\n",
        "  else:\n",
        "    # call is_malicious on item\n",
        "    if os.path.isfile(path):\n",
        "      res = is_malicious(path, model)\n",
        "      result[path] = res\n",
        "    else:\n",
        "      print(\"File not exist..\")\n",
        "      exit()"
      ],
      "execution_count": null,
      "outputs": []
    },
    {
      "cell_type": "code",
      "metadata": {
        "id": "vxcSeG0qO0H0"
      },
      "source": [
        "list_families = ['Adialer.C', 'Agent.FYI', 'Allaple.A', 'Allaple.L', 'Alueron.gen!J', 'Autorun.K', 'C2LOP.P', 'C2LOP.gen!g', 'Dialplatform.B', 'Dontovo.A', 'Fakerean', 'Instantaccess', 'Lolyda.AA1', 'Lolyda.AA2', 'Lolyda.AA3', 'Lolyda.AT', 'Malex.gen!J', 'Obfuscator.AD', 'Rbot!gen', 'Skintrim.N', 'Swizzor.gen!E', 'Swizzor.gen!I', 'VB.AT', 'Wintrim.BX', 'Yuner.A', 'benign']\n",
        "def is_malicious(file, model):\n",
        "  img = convert_to_img(file)\n",
        "  img = cv2.cvtColor(img, cv2.COLOR_GRAY2BGR)\n",
        "  img = cv2.resize(img, (224, 224))\n",
        "  img_batch = np.expand_dims(img, axis=0)\n",
        "  prediction = new_model.predict(img_batch)\n",
        "  f_name = list_families[np.argmax(prediction)]\n",
        "  return f_name\n"
      ],
      "execution_count": null,
      "outputs": []
    },
    {
      "cell_type": "code",
      "metadata": {
        "id": "pGgXE42zv-pn"
      },
      "source": [
        "def convert_to_img(file):\n",
        "  with open(file, 'rb') as binary_file:\n",
        "      data = binary_file.read()\n",
        "\n",
        "  # Data length in bytes\n",
        "  data_len = len(data)\n",
        "\n",
        "  # d is a verctor of data_len bytes\n",
        "  d = np.frombuffer(data, dtype=np.uint8)\n",
        "\n",
        "  # Assume image shape should be close to square\n",
        "  sqrt_len = int(ceil(sqrt(data_len)))  # Compute square toot and round up\n",
        "\n",
        "  # Requiered length in bytes.\n",
        "  new_len = sqrt_len*sqrt_len\n",
        "\n",
        "  # Number of bytes to pad (need to add zeros to the end of d)\n",
        "  pad_len = new_len - data_len\n",
        "\n",
        "  # Pad d with zeros at the end.\n",
        "  # padded_d = np.pad(d, (0, pad_len))\n",
        "  padded_d = np.hstack((d, np.zeros(pad_len, np.uint8)))\n",
        "\n",
        "  # Reshape 1D array into 2D array with sqrt_len pad_len x sqrt_len (im is going to be a Grayscale image).\n",
        "  im = np.reshape(padded_d, (sqrt_len, sqrt_len))\n",
        "  #print(im.shape)\n",
        "  name = \"converted_img\"+\".png\"\n",
        "  #print(im.shape)\n",
        "  cv2.imwrite(name, im)\n",
        "  return im\n",
        ""
      ],
      "execution_count": null,
      "outputs": []
    },
    {
      "cell_type": "code",
      "metadata": {
        "id": "z6A3piK6Cs8C"
      },
      "source": [
        "# Converts benign files to gray scale images and store on drive\n",
        "# %cd '/content/drive/MyDrive/malware_detection_project/benign'\n",
        "# from google.colab.patches import cv2_imshow\n",
        "# path = \"/content/drive/MyDrive/malware_detection_project/benign_files\"\n",
        "# for i, file in enumerate(os.listdir(path)):\n",
        "#   f = os.path.join(path , file)\n",
        "#   convert_to_img(f)"
      ],
      "execution_count": null,
      "outputs": []
    },
    {
      "cell_type": "code",
      "metadata": {
        "id": "LJNsbjmzRuJQ"
      },
      "source": [
        "# create generators for training and testing dataset\n",
        "root_path = \"/content/drive/MyDrive/malware_detection_project/malware_dataset\"\n",
        "TRAIN_DIR = os.path.join(root_path, \"train\")\n",
        "TEST_DIR = os.path.join(root_path, \"test\")\n",
        "\n",
        "data_gen_train = ImageDataGenerator(rescale=1/255.)\n",
        "data_gen_valid = ImageDataGenerator(rescale=1/255.)\n",
        "\n",
        "train_generator = data_gen_train.flow_from_directory(\n",
        "\tTRAIN_DIR,\n",
        "\ttarget_size=(224, 224),\n",
        "\tclass_mode='categorical',\n",
        "  batch_size=512\n",
        ")\n",
        "\n",
        "validation_generator = data_gen_valid.flow_from_directory(\n",
        "\tTEST_DIR,\n",
        "\ttarget_size=(224, 224),\n",
        "\tclass_mode='categorical',\n",
        "  batch_size=512,\n",
        "  shuffle=False\n",
        "  )"
      ],
      "execution_count": null,
      "outputs": []
    },
    {
      "cell_type": "code",
      "metadata": {
        "id": "Quf4yMp7Ts0V"
      },
      "source": [
        "train_generator.class_indices"
      ],
      "execution_count": null,
      "outputs": []
    },
    {
      "cell_type": "code",
      "metadata": {
        "id": "3gS_1UPF2dVi"
      },
      "source": [
        "list_families = list(train_generator.class_indices.keys())\n",
        "print(list_families)"
      ],
      "execution_count": null,
      "outputs": []
    },
    {
      "cell_type": "code",
      "metadata": {
        "id": "fSvoqEJJv6F7",
        "colab": {
          "base_uri": "https://localhost:8080/"
        },
        "outputId": "5ea4d6e6-fa12-4f62-895c-3d022077224d"
      },
      "source": [
        "from tensorflow.keras.models import Sequential,Model\n",
        "from tensorflow.keras.layers import Input,Flatten,Dense,Dropout,GlobalAveragePooling2D,Conv2D,MaxPooling2D\n",
        "num_classes = 26\n",
        "image_shape = ((224, 224, 3))\n",
        "base_model = tf.keras.applications.VGG16(weights='imagenet', input_shape=image_shape, include_top=False)\n",
        "base_model.trainable = False\n",
        "global_average_layer = tf.keras.layers.GlobalAveragePooling2D()(base_model.output)\n",
        "fc1 = Dense(160, activation='relu')(global_average_layer)\n",
        "fc1 = Dropout(0.3)(fc1)\n",
        "fc2 = Dense(160, activation='relu')(fc1)\n",
        "fc2 = Dropout(0.3)(fc2)\n",
        "prediction_layer = Dense(num_classes, activation='softmax')(fc2)\n",
        "model = Model(inputs=base_model.input, outputs=prediction_layer)"
      ],
      "execution_count": null,
      "outputs": [
        {
          "output_type": "stream",
          "text": [
            "Downloading data from https://storage.googleapis.com/tensorflow/keras-applications/vgg16/vgg16_weights_tf_dim_ordering_tf_kernels_notop.h5\n",
            "58892288/58889256 [==============================] - 0s 0us/step\n"
          ],
          "name": "stdout"
        }
      ]
    },
    {
      "cell_type": "code",
      "metadata": {
        "id": "7ooMiN0n1BXH"
      },
      "source": [
        "# Assigned weights to each target class to mitigate imbalance from dataset\n",
        "from sklearn.utils import class_weight\n",
        "class_weights = class_weight.compute_class_weight(\n",
        "               'balanced',\n",
        "                np.unique(train_generator.classes),\n",
        "                train_generator.classes)\n",
        "CLASS_WEIGHTS = {}\n",
        "for i, weight in enumerate(class_weights):\n",
        "  CLASS_WEIGHTS[i] = weight"
      ],
      "execution_count": null,
      "outputs": []
    },
    {
      "cell_type": "code",
      "metadata": {
        "id": "tRVlrVomfAGj"
      },
      "source": [
        "from collections import Counter\n",
        "itemCt = Counter(train_generator.classes)\n",
        "maxCt = float(max(itemCt.values()))\n",
        "cw = {clsID : maxCt/numImg for clsID, numImg in itemCt.items()}"
      ],
      "execution_count": null,
      "outputs": []
    },
    {
      "cell_type": "code",
      "metadata": {
        "id": "uEJvgFovUrte"
      },
      "source": [
        "CLASS_WEIGHTS"
      ],
      "execution_count": null,
      "outputs": []
    },
    {
      "cell_type": "code",
      "metadata": {
        "id": "NAn7EOOz4HQJ"
      },
      "source": [
        "early_stopping = EarlyStopping(verbose=1, patience=10, monitor='val_loss')\n",
        "checkpoint_path = '/content/drive/MyDrive/malware_detection_project/checkpoints_VGG16_test4/training_check_1/cp-{epoch:04d}.ckpt'\n",
        "checkpoint_dir = os.path.dirname(checkpoint_path)\n",
        "checkpointer = ModelCheckpoint(filepath=checkpoint_dir, monitor='loss', verbose=0, save_best_only=True, save_weights_only=True, mode='min')\n",
        "callbacks_list = [early_stopping, checkpointer]"
      ],
      "execution_count": null,
      "outputs": []
    },
    {
      "cell_type": "code",
      "metadata": {
        "id": "ZmI3ixG-mFBK"
      },
      "source": [
        "# prediction model training process\n",
        "num_epochs = 100\n",
        "model.compile(optimizer=tf.keras.optimizers.Adam(learning_rate=1e-4), loss='categorical_crossentropy', metrics=['accuracy'])\n",
        "history = model.fit(train_generator, validation_data=validation_generator, epochs=num_epochs, steps_per_epoch=7222//512 ,verbose=1, callbacks=callbacks_list, class_weight=CLASS_WEIGHTS)\n",
        "# batch_size = 256"
      ],
      "execution_count": null,
      "outputs": []
    },
    {
      "cell_type": "code",
      "metadata": {
        "id": "NL_B7JHOULz8"
      },
      "source": [
        "plt.plot(model.history.history['accuracy'])\n",
        "plt.plot(model.history.history['val_accuracy'])\n",
        "plt.title('model accuracy')\n",
        "plt.ylabel('accuracy')\n",
        "plt.xlabel('epoch')\n",
        "plt.legend(['train', 'test'], loc='upper left')\n",
        "plt.show()\n",
        "# summarize history for loss\n",
        "plt.plot(model.history.history['loss'])\n",
        "plt.plot(model.history.history['val_loss'])\n",
        "plt.title('model loss')\n",
        "plt.ylabel('loss')\n",
        "plt.xlabel('epoch')\n",
        "plt.legend(['train', 'test'], loc='upper left')\n",
        "plt.show()"
      ],
      "execution_count": null,
      "outputs": []
    },
    {
      "cell_type": "code",
      "metadata": {
        "id": "nHSSPGHPgRRV"
      },
      "source": [
        "from sklearn.metrics import classification_report, confusion_matrix\n",
        "probabilities = model.predict_generator(generator=validation_generator)\n",
        "y_true = validation_generator.classes\n",
        "y_pred = probabilities > 0.5\n",
        "font = {\n",
        "'family': 'Times New Roman',\n",
        "'size': 12\n",
        "}\n",
        "matplotlib.rc('font', **font)\n",
        "mat = confusion_matrix(y_true, y_pred)\n",
        "plot_confusion_matrix(conf_mat=mat, figsize=(8, 8), show_normed=False)"
      ],
      "execution_count": null,
      "outputs": []
    },
    {
      "cell_type": "code",
      "metadata": {
        "id": "-lvUDuE1OYNq"
      },
      "source": [
        "latest = tf.train.latest_checkpoint('/content/drive/MyDrive/malware_detection_project/checkpoints_VGG16_test4')\n",
        "model.compile(optimizer='Adam', loss='categorical_crossentropy', metrics=['accuracy'])\n",
        "model.load_weights(latest)\n",
        "# score = model.evaluate(validation_generator)\n",
        "# print(score)"
      ],
      "execution_count": null,
      "outputs": []
    },
    {
      "cell_type": "code",
      "metadata": {
        "id": "1ncdGUXFPmvI"
      },
      "source": [
        "saved_model_path = '/content/drive/MyDrive/malware_detection_project/saved_model/VGG16_model_test1'\n",
        "new_model = tf.keras.models.load_model(saved_model_path)\n",
        "#score = new_model.evaluate(validation_generator)"
      ],
      "execution_count": null,
      "outputs": []
    },
    {
      "cell_type": "code",
      "metadata": {
        "colab": {
          "base_uri": "https://localhost:8080/"
        },
        "id": "bG38uJ9viqqQ",
        "outputId": "9a5b1f9d-e542-41a7-a5c1-b50f3f56574d"
      },
      "source": [
        "new_model.summary()"
      ],
      "execution_count": null,
      "outputs": [
        {
          "output_type": "stream",
          "text": [
            "Model: \"model_3\"\n",
            "_________________________________________________________________\n",
            "Layer (type)                 Output Shape              Param #   \n",
            "=================================================================\n",
            "input_4 (InputLayer)         [(None, 224, 224, 3)]     0         \n",
            "_________________________________________________________________\n",
            "block1_conv1 (Conv2D)        (None, 224, 224, 64)      1792      \n",
            "_________________________________________________________________\n",
            "block1_conv2 (Conv2D)        (None, 224, 224, 64)      36928     \n",
            "_________________________________________________________________\n",
            "block1_pool (MaxPooling2D)   (None, 112, 112, 64)      0         \n",
            "_________________________________________________________________\n",
            "block2_conv1 (Conv2D)        (None, 112, 112, 128)     73856     \n",
            "_________________________________________________________________\n",
            "block2_conv2 (Conv2D)        (None, 112, 112, 128)     147584    \n",
            "_________________________________________________________________\n",
            "block2_pool (MaxPooling2D)   (None, 56, 56, 128)       0         \n",
            "_________________________________________________________________\n",
            "block3_conv1 (Conv2D)        (None, 56, 56, 256)       295168    \n",
            "_________________________________________________________________\n",
            "block3_conv2 (Conv2D)        (None, 56, 56, 256)       590080    \n",
            "_________________________________________________________________\n",
            "block3_conv3 (Conv2D)        (None, 56, 56, 256)       590080    \n",
            "_________________________________________________________________\n",
            "block3_pool (MaxPooling2D)   (None, 28, 28, 256)       0         \n",
            "_________________________________________________________________\n",
            "block4_conv1 (Conv2D)        (None, 28, 28, 512)       1180160   \n",
            "_________________________________________________________________\n",
            "block4_conv2 (Conv2D)        (None, 28, 28, 512)       2359808   \n",
            "_________________________________________________________________\n",
            "block4_conv3 (Conv2D)        (None, 28, 28, 512)       2359808   \n",
            "_________________________________________________________________\n",
            "block4_pool (MaxPooling2D)   (None, 14, 14, 512)       0         \n",
            "_________________________________________________________________\n",
            "block5_conv1 (Conv2D)        (None, 14, 14, 512)       2359808   \n",
            "_________________________________________________________________\n",
            "block5_conv2 (Conv2D)        (None, 14, 14, 512)       2359808   \n",
            "_________________________________________________________________\n",
            "block5_conv3 (Conv2D)        (None, 14, 14, 512)       2359808   \n",
            "_________________________________________________________________\n",
            "block5_pool (MaxPooling2D)   (None, 7, 7, 512)         0         \n",
            "_________________________________________________________________\n",
            "global_average_pooling2d_3 ( (None, 512)               0         \n",
            "_________________________________________________________________\n",
            "dense_9 (Dense)              (None, 160)               82080     \n",
            "_________________________________________________________________\n",
            "dropout_6 (Dropout)          (None, 160)               0         \n",
            "_________________________________________________________________\n",
            "dense_10 (Dense)             (None, 160)               25760     \n",
            "_________________________________________________________________\n",
            "dropout_7 (Dropout)          (None, 160)               0         \n",
            "_________________________________________________________________\n",
            "dense_11 (Dense)             (None, 26)                4186      \n",
            "=================================================================\n",
            "Total params: 14,826,714\n",
            "Trainable params: 14,826,714\n",
            "Non-trainable params: 0\n",
            "_________________________________________________________________\n"
          ],
          "name": "stdout"
        }
      ]
    },
    {
      "cell_type": "code",
      "metadata": {
        "id": "yknPGjn7lm34"
      },
      "source": [
        "tf.keras.utils.plot_model(\n",
        "    new_model,\n",
        "    to_file=\"model.png\",\n",
        "    show_shapes=True,\n",
        "    show_dtype=False,\n",
        "    show_layer_names=True,\n",
        "    rankdir=\"TB\",\n",
        "    expand_nested=False,\n",
        "    dpi=96,\n",
        ")"
      ],
      "execution_count": null,
      "outputs": []
    },
    {
      "cell_type": "code",
      "metadata": {
        "id": "uAvN4aPVLJUA"
      },
      "source": [
        "result = {}\n",
        "process_path('/content/vbc.exe.config', new_model)"
      ],
      "execution_count": null,
      "outputs": []
    },
    {
      "cell_type": "code",
      "metadata": {
        "id": "EOlmI_o1OstY",
        "colab": {
          "base_uri": "https://localhost:8080/"
        },
        "outputId": "644ca54a-4c97-4e76-be1d-e795918043c5"
      },
      "source": [
        "result"
      ],
      "execution_count": null,
      "outputs": [
        {
          "output_type": "execute_result",
          "data": {
            "text/plain": [
              "{'/content/vbc.exe.': 'benign', '/content/vbc.exe.config': 'benign'}"
            ]
          },
          "metadata": {
            "tags": []
          },
          "execution_count": 19
        }
      ]
    },
    {
      "cell_type": "code",
      "metadata": {
        "id": "RkwlZTq0KF0u"
      },
      "source": [
        "# required list to plot statistics\n",
        "family_counts = Counter(result.values())\n",
        "family_name = [f_name for f_name in family_counts.keys()]\n",
        "occurences = [num for num in family_counts.values()]"
      ],
      "execution_count": null,
      "outputs": []
    },
    {
      "cell_type": "code",
      "metadata": {
        "id": "_MTkJfEDoF7I"
      },
      "source": [
        "img_path = '/content/drive/MyDrive/malware_detection_project/malware_dataset/test/Swizzor.gen!I/06caeea27451023fca6debca71933975.png'\n",
        "# img = convert_to_img('/content/vbc.exe.config')\n",
        "# img = cv2.cvtColor(img, cv2.COLOR_GRAY2BGR)\n",
        "# img = cv2.resize(img, (244, 224))\n",
        "img = image.load_img(img_path, target_size=(224, 224))\n",
        "img_array = image.img_to_array(img)\n",
        "img_batch = np.expand_dims(img_array, axis=0)\n",
        "ans = new_model.predict(img_batch)"
      ],
      "execution_count": null,
      "outputs": []
    },
    {
      "cell_type": "code",
      "metadata": {
        "id": "gy6wD_ERoxOo"
      },
      "source": [
        "print(list_families[np.argmax(ans)])"
      ],
      "execution_count": null,
      "outputs": []
    },
    {
      "cell_type": "code",
      "metadata": {
        "id": "RgdGchURVCl9"
      },
      "source": [
        "result"
      ],
      "execution_count": null,
      "outputs": []
    }
  ]
}