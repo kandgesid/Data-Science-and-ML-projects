{
  "nbformat": 4,
  "nbformat_minor": 0,
  "metadata": {
    "colab": {
      "name": "Data_capstone_project.ipynb",
      "provenance": [],
      "collapsed_sections": [],
      "authorship_tag": "ABX9TyOTdstMYVYSIc98y6Lu+Fer",
      "include_colab_link": true
    },
    "kernelspec": {
      "name": "python3",
      "display_name": "Python 3"
    },
    "accelerator": "GPU"
  },
  "cells": [
    {
      "cell_type": "markdown",
      "metadata": {
        "id": "view-in-github",
        "colab_type": "text"
      },
      "source": [
        "<a href=\"https://colab.research.google.com/github/kandgesid/Data-Science-and-ML-projects/blob/master/Data_capstone_project.ipynb\" target=\"_parent\"><img src=\"https://colab.research.google.com/assets/colab-badge.svg\" alt=\"Open In Colab\"/></a>"
      ]
    },
    {
      "cell_type": "code",
      "metadata": {
        "id": "h0QXv21njdWK",
        "colab_type": "code",
        "colab": {
          "base_uri": "https://localhost:8080/",
          "height": 121
        },
        "outputId": "853131fe-b8b4-42b1-b075-76570e19602d"
      },
      "source": [
        "from google.colab import drive\n",
        "drive.mount('/content/drive')"
      ],
      "execution_count": null,
      "outputs": [
        {
          "output_type": "stream",
          "text": [
            "Go to this URL in a browser: https://accounts.google.com/o/oauth2/auth?client_id=947318989803-6bn6qk8qdgf4n4g3pfee6491hc0brc4i.apps.googleusercontent.com&redirect_uri=urn%3aietf%3awg%3aoauth%3a2.0%3aoob&response_type=code&scope=email%20https%3a%2f%2fwww.googleapis.com%2fauth%2fdocs.test%20https%3a%2f%2fwww.googleapis.com%2fauth%2fdrive%20https%3a%2f%2fwww.googleapis.com%2fauth%2fdrive.photos.readonly%20https%3a%2f%2fwww.googleapis.com%2fauth%2fpeopleapi.readonly\n",
            "\n",
            "Enter your authorization code:\n",
            "··········\n",
            "Mounted at /content/drive\n"
          ],
          "name": "stdout"
        }
      ]
    },
    {
      "cell_type": "code",
      "metadata": {
        "id": "ZBztwV23eZDL",
        "colab_type": "code",
        "colab": {}
      },
      "source": [
        "import pandas as pd\n",
        "import numpy as np\n",
        "import matplotlib.pyplot as plt\n",
        "import seaborn as sns\n",
        "\n",
        "#%matplotlib inline"
      ],
      "execution_count": null,
      "outputs": []
    },
    {
      "cell_type": "code",
      "metadata": {
        "id": "PCXq8dVojKht",
        "colab_type": "code",
        "colab": {}
      },
      "source": [
        "df = pd.read_csv('/content/lending_club_loan_two.csv')"
      ],
      "execution_count": null,
      "outputs": []
    },
    {
      "cell_type": "code",
      "metadata": {
        "id": "wJrnqfM_jext",
        "colab_type": "code",
        "colab": {
          "base_uri": "https://localhost:8080/",
          "height": 554
        },
        "outputId": "473e49c4-88b8-40da-d3c3-d2b273153713"
      },
      "source": [
        "df.info()"
      ],
      "execution_count": null,
      "outputs": [
        {
          "output_type": "stream",
          "text": [
            "<class 'pandas.core.frame.DataFrame'>\n",
            "RangeIndex: 396030 entries, 0 to 396029\n",
            "Data columns (total 27 columns):\n",
            "loan_amnt               396030 non-null float64\n",
            "term                    396030 non-null object\n",
            "int_rate                396030 non-null float64\n",
            "installment             396030 non-null float64\n",
            "grade                   396030 non-null object\n",
            "sub_grade               396030 non-null object\n",
            "emp_title               373103 non-null object\n",
            "emp_length              377729 non-null object\n",
            "home_ownership          396030 non-null object\n",
            "annual_inc              396030 non-null float64\n",
            "verification_status     396030 non-null object\n",
            "issue_d                 396030 non-null object\n",
            "loan_status             396030 non-null object\n",
            "purpose                 396030 non-null object\n",
            "title                   394275 non-null object\n",
            "dti                     396030 non-null float64\n",
            "earliest_cr_line        396030 non-null object\n",
            "open_acc                396030 non-null float64\n",
            "pub_rec                 396030 non-null float64\n",
            "revol_bal               396030 non-null float64\n",
            "revol_util              395754 non-null float64\n",
            "total_acc               396030 non-null float64\n",
            "initial_list_status     396030 non-null object\n",
            "application_type        396030 non-null object\n",
            "mort_acc                358235 non-null float64\n",
            "pub_rec_bankruptcies    395495 non-null float64\n",
            "address                 396030 non-null object\n",
            "dtypes: float64(12), object(15)\n",
            "memory usage: 81.6+ MB\n"
          ],
          "name": "stdout"
        }
      ]
    },
    {
      "cell_type": "code",
      "metadata": {
        "id": "h8EyemcgnBJz",
        "colab_type": "code",
        "colab": {
          "base_uri": "https://localhost:8080/",
          "height": 383
        },
        "outputId": "fa91176a-7cca-47b3-e64a-358f932b45f1"
      },
      "source": [
        "df.head()"
      ],
      "execution_count": null,
      "outputs": [
        {
          "output_type": "execute_result",
          "data": {
            "text/html": [
              "<div>\n",
              "<style scoped>\n",
              "    .dataframe tbody tr th:only-of-type {\n",
              "        vertical-align: middle;\n",
              "    }\n",
              "\n",
              "    .dataframe tbody tr th {\n",
              "        vertical-align: top;\n",
              "    }\n",
              "\n",
              "    .dataframe thead th {\n",
              "        text-align: right;\n",
              "    }\n",
              "</style>\n",
              "<table border=\"1\" class=\"dataframe\">\n",
              "  <thead>\n",
              "    <tr style=\"text-align: right;\">\n",
              "      <th></th>\n",
              "      <th>loan_amnt</th>\n",
              "      <th>term</th>\n",
              "      <th>int_rate</th>\n",
              "      <th>installment</th>\n",
              "      <th>grade</th>\n",
              "      <th>sub_grade</th>\n",
              "      <th>emp_title</th>\n",
              "      <th>emp_length</th>\n",
              "      <th>home_ownership</th>\n",
              "      <th>annual_inc</th>\n",
              "      <th>verification_status</th>\n",
              "      <th>issue_d</th>\n",
              "      <th>loan_status</th>\n",
              "      <th>purpose</th>\n",
              "      <th>title</th>\n",
              "      <th>dti</th>\n",
              "      <th>earliest_cr_line</th>\n",
              "      <th>open_acc</th>\n",
              "      <th>pub_rec</th>\n",
              "      <th>revol_bal</th>\n",
              "      <th>revol_util</th>\n",
              "      <th>total_acc</th>\n",
              "      <th>initial_list_status</th>\n",
              "      <th>application_type</th>\n",
              "      <th>mort_acc</th>\n",
              "      <th>pub_rec_bankruptcies</th>\n",
              "      <th>address</th>\n",
              "    </tr>\n",
              "  </thead>\n",
              "  <tbody>\n",
              "    <tr>\n",
              "      <th>0</th>\n",
              "      <td>10000.0</td>\n",
              "      <td>36 months</td>\n",
              "      <td>11.44</td>\n",
              "      <td>329.48</td>\n",
              "      <td>B</td>\n",
              "      <td>B4</td>\n",
              "      <td>Marketing</td>\n",
              "      <td>10+ years</td>\n",
              "      <td>RENT</td>\n",
              "      <td>117000.0</td>\n",
              "      <td>Not Verified</td>\n",
              "      <td>Jan-2015</td>\n",
              "      <td>Fully Paid</td>\n",
              "      <td>vacation</td>\n",
              "      <td>Vacation</td>\n",
              "      <td>26.24</td>\n",
              "      <td>Jun-1990</td>\n",
              "      <td>16.0</td>\n",
              "      <td>0.0</td>\n",
              "      <td>36369.0</td>\n",
              "      <td>41.8</td>\n",
              "      <td>25.0</td>\n",
              "      <td>w</td>\n",
              "      <td>INDIVIDUAL</td>\n",
              "      <td>0.0</td>\n",
              "      <td>0.0</td>\n",
              "      <td>0174 Michelle Gateway\\nMendozaberg, OK 22690</td>\n",
              "    </tr>\n",
              "    <tr>\n",
              "      <th>1</th>\n",
              "      <td>8000.0</td>\n",
              "      <td>36 months</td>\n",
              "      <td>11.99</td>\n",
              "      <td>265.68</td>\n",
              "      <td>B</td>\n",
              "      <td>B5</td>\n",
              "      <td>Credit analyst</td>\n",
              "      <td>4 years</td>\n",
              "      <td>MORTGAGE</td>\n",
              "      <td>65000.0</td>\n",
              "      <td>Not Verified</td>\n",
              "      <td>Jan-2015</td>\n",
              "      <td>Fully Paid</td>\n",
              "      <td>debt_consolidation</td>\n",
              "      <td>Debt consolidation</td>\n",
              "      <td>22.05</td>\n",
              "      <td>Jul-2004</td>\n",
              "      <td>17.0</td>\n",
              "      <td>0.0</td>\n",
              "      <td>20131.0</td>\n",
              "      <td>53.3</td>\n",
              "      <td>27.0</td>\n",
              "      <td>f</td>\n",
              "      <td>INDIVIDUAL</td>\n",
              "      <td>3.0</td>\n",
              "      <td>0.0</td>\n",
              "      <td>1076 Carney Fort Apt. 347\\nLoganmouth, SD 05113</td>\n",
              "    </tr>\n",
              "    <tr>\n",
              "      <th>2</th>\n",
              "      <td>15600.0</td>\n",
              "      <td>36 months</td>\n",
              "      <td>10.49</td>\n",
              "      <td>506.97</td>\n",
              "      <td>B</td>\n",
              "      <td>B3</td>\n",
              "      <td>Statistician</td>\n",
              "      <td>&lt; 1 year</td>\n",
              "      <td>RENT</td>\n",
              "      <td>43057.0</td>\n",
              "      <td>Source Verified</td>\n",
              "      <td>Jan-2015</td>\n",
              "      <td>Fully Paid</td>\n",
              "      <td>credit_card</td>\n",
              "      <td>Credit card refinancing</td>\n",
              "      <td>12.79</td>\n",
              "      <td>Aug-2007</td>\n",
              "      <td>13.0</td>\n",
              "      <td>0.0</td>\n",
              "      <td>11987.0</td>\n",
              "      <td>92.2</td>\n",
              "      <td>26.0</td>\n",
              "      <td>f</td>\n",
              "      <td>INDIVIDUAL</td>\n",
              "      <td>0.0</td>\n",
              "      <td>0.0</td>\n",
              "      <td>87025 Mark Dale Apt. 269\\nNew Sabrina, WV 05113</td>\n",
              "    </tr>\n",
              "    <tr>\n",
              "      <th>3</th>\n",
              "      <td>7200.0</td>\n",
              "      <td>36 months</td>\n",
              "      <td>6.49</td>\n",
              "      <td>220.65</td>\n",
              "      <td>A</td>\n",
              "      <td>A2</td>\n",
              "      <td>Client Advocate</td>\n",
              "      <td>6 years</td>\n",
              "      <td>RENT</td>\n",
              "      <td>54000.0</td>\n",
              "      <td>Not Verified</td>\n",
              "      <td>Nov-2014</td>\n",
              "      <td>Fully Paid</td>\n",
              "      <td>credit_card</td>\n",
              "      <td>Credit card refinancing</td>\n",
              "      <td>2.60</td>\n",
              "      <td>Sep-2006</td>\n",
              "      <td>6.0</td>\n",
              "      <td>0.0</td>\n",
              "      <td>5472.0</td>\n",
              "      <td>21.5</td>\n",
              "      <td>13.0</td>\n",
              "      <td>f</td>\n",
              "      <td>INDIVIDUAL</td>\n",
              "      <td>0.0</td>\n",
              "      <td>0.0</td>\n",
              "      <td>823 Reid Ford\\nDelacruzside, MA 00813</td>\n",
              "    </tr>\n",
              "    <tr>\n",
              "      <th>4</th>\n",
              "      <td>24375.0</td>\n",
              "      <td>60 months</td>\n",
              "      <td>17.27</td>\n",
              "      <td>609.33</td>\n",
              "      <td>C</td>\n",
              "      <td>C5</td>\n",
              "      <td>Destiny Management Inc.</td>\n",
              "      <td>9 years</td>\n",
              "      <td>MORTGAGE</td>\n",
              "      <td>55000.0</td>\n",
              "      <td>Verified</td>\n",
              "      <td>Apr-2013</td>\n",
              "      <td>Charged Off</td>\n",
              "      <td>credit_card</td>\n",
              "      <td>Credit Card Refinance</td>\n",
              "      <td>33.95</td>\n",
              "      <td>Mar-1999</td>\n",
              "      <td>13.0</td>\n",
              "      <td>0.0</td>\n",
              "      <td>24584.0</td>\n",
              "      <td>69.8</td>\n",
              "      <td>43.0</td>\n",
              "      <td>f</td>\n",
              "      <td>INDIVIDUAL</td>\n",
              "      <td>1.0</td>\n",
              "      <td>0.0</td>\n",
              "      <td>679 Luna Roads\\nGreggshire, VA 11650</td>\n",
              "    </tr>\n",
              "  </tbody>\n",
              "</table>\n",
              "</div>"
            ],
            "text/plain": [
              "   loan_amnt  ...                                          address\n",
              "0    10000.0  ...     0174 Michelle Gateway\\nMendozaberg, OK 22690\n",
              "1     8000.0  ...  1076 Carney Fort Apt. 347\\nLoganmouth, SD 05113\n",
              "2    15600.0  ...  87025 Mark Dale Apt. 269\\nNew Sabrina, WV 05113\n",
              "3     7200.0  ...            823 Reid Ford\\nDelacruzside, MA 00813\n",
              "4    24375.0  ...             679 Luna Roads\\nGreggshire, VA 11650\n",
              "\n",
              "[5 rows x 27 columns]"
            ]
          },
          "metadata": {
            "tags": []
          },
          "execution_count": 16
        }
      ]
    },
    {
      "cell_type": "code",
      "metadata": {
        "id": "BqtccMj1zjBQ",
        "colab_type": "code",
        "colab": {
          "base_uri": "https://localhost:8080/",
          "height": 297
        },
        "outputId": "4982a81d-8912-4c71-81b4-7dff9f610926"
      },
      "source": [
        "# Since we are predicting loan status, plot a countplot of loan_status\n",
        "sns.countplot(x=\"loan_status\", data=df)"
      ],
      "execution_count": null,
      "outputs": [
        {
          "output_type": "execute_result",
          "data": {
            "text/plain": [
              "<matplotlib.axes._subplots.AxesSubplot at 0x7fb78119c860>"
            ]
          },
          "metadata": {
            "tags": []
          },
          "execution_count": 17
        },
        {
          "output_type": "display_data",
          "data": {
            "image/png": "[encoded data removed]",
            "text/plain": [
              "<Figure size 432x288 with 1 Axes>"
            ]
          },
          "metadata": {
            "tags": []
          }
        }
      ]
    },
    {
      "cell_type": "code",
      "metadata": {
        "id": "m9xbni9J0b4c",
        "colab_type": "code",
        "colab": {
          "base_uri": "https://localhost:8080/",
          "height": 189
        },
        "outputId": "514dc899-4a62-455b-c8c9-18056347275e"
      },
      "source": [
        "# plot histogram of loan_amnt\n",
        "plt.figure(figsize=(12,2))\n",
        "plt.xlim((0,45000))\n",
        "sns.distplot(df[\"loan_amnt\"],kde=False,bins = 45,hist_kws=dict(edgecolor=\"k\", linewidth=2))"
      ],
      "execution_count": null,
      "outputs": [
        {
          "output_type": "execute_result",
          "data": {
            "text/plain": [
              "<matplotlib.axes._subplots.AxesSubplot at 0x7fb78117cba8>"
            ]
          },
          "metadata": {
            "tags": []
          },
          "execution_count": 18
        },
        {
          "output_type": "display_data",
          "data": {
            "image/png": "[encoded data removed]",
            "text/plain": [
              "<Figure size 864x144 with 1 Axes>"
            ]
          },
          "metadata": {
            "tags": []
          }
        }
      ]
    },
    {
      "cell_type": "code",
      "metadata": {
        "id": "099VVF5W0hNo",
        "colab_type": "code",
        "colab": {
          "base_uri": "https://localhost:8080/",
          "height": 422
        },
        "outputId": "4482e104-4f82-4614-a6a7-4aeb43990990"
      },
      "source": [
        "# let's get the corr matrix\n",
        "df.corr()"
      ],
      "execution_count": null,
      "outputs": [
        {
          "output_type": "execute_result",
          "data": {
            "text/html": [
              "<div>\n",
              "<style scoped>\n",
              "    .dataframe tbody tr th:only-of-type {\n",
              "        vertical-align: middle;\n",
              "    }\n",
              "\n",
              "    .dataframe tbody tr th {\n",
              "        vertical-align: top;\n",
              "    }\n",
              "\n",
              "    .dataframe thead th {\n",
              "        text-align: right;\n",
              "    }\n",
              "</style>\n",
              "<table border=\"1\" class=\"dataframe\">\n",
              "  <thead>\n",
              "    <tr style=\"text-align: right;\">\n",
              "      <th></th>\n",
              "      <th>loan_amnt</th>\n",
              "      <th>int_rate</th>\n",
              "      <th>installment</th>\n",
              "      <th>annual_inc</th>\n",
              "      <th>dti</th>\n",
              "      <th>open_acc</th>\n",
              "      <th>pub_rec</th>\n",
              "      <th>revol_bal</th>\n",
              "      <th>revol_util</th>\n",
              "      <th>total_acc</th>\n",
              "      <th>mort_acc</th>\n",
              "      <th>pub_rec_bankruptcies</th>\n",
              "    </tr>\n",
              "  </thead>\n",
              "  <tbody>\n",
              "    <tr>\n",
              "      <th>loan_amnt</th>\n",
              "      <td>1.000000</td>\n",
              "      <td>0.168921</td>\n",
              "      <td>0.953929</td>\n",
              "      <td>0.336887</td>\n",
              "      <td>0.016636</td>\n",
              "      <td>0.198556</td>\n",
              "      <td>-0.077779</td>\n",
              "      <td>0.328320</td>\n",
              "      <td>0.099911</td>\n",
              "      <td>0.223886</td>\n",
              "      <td>0.222315</td>\n",
              "      <td>-0.106539</td>\n",
              "    </tr>\n",
              "    <tr>\n",
              "      <th>int_rate</th>\n",
              "      <td>0.168921</td>\n",
              "      <td>1.000000</td>\n",
              "      <td>0.162758</td>\n",
              "      <td>-0.056771</td>\n",
              "      <td>0.079038</td>\n",
              "      <td>0.011649</td>\n",
              "      <td>0.060986</td>\n",
              "      <td>-0.011280</td>\n",
              "      <td>0.293659</td>\n",
              "      <td>-0.036404</td>\n",
              "      <td>-0.082583</td>\n",
              "      <td>0.057450</td>\n",
              "    </tr>\n",
              "    <tr>\n",
              "      <th>installment</th>\n",
              "      <td>0.953929</td>\n",
              "      <td>0.162758</td>\n",
              "      <td>1.000000</td>\n",
              "      <td>0.330381</td>\n",
              "      <td>0.015786</td>\n",
              "      <td>0.188973</td>\n",
              "      <td>-0.067892</td>\n",
              "      <td>0.316455</td>\n",
              "      <td>0.123915</td>\n",
              "      <td>0.202430</td>\n",
              "      <td>0.193694</td>\n",
              "      <td>-0.098628</td>\n",
              "    </tr>\n",
              "    <tr>\n",
              "      <th>annual_inc</th>\n",
              "      <td>0.336887</td>\n",
              "      <td>-0.056771</td>\n",
              "      <td>0.330381</td>\n",
              "      <td>1.000000</td>\n",
              "      <td>-0.081685</td>\n",
              "      <td>0.136150</td>\n",
              "      <td>-0.013720</td>\n",
              "      <td>0.299773</td>\n",
              "      <td>0.027871</td>\n",
              "      <td>0.193023</td>\n",
              "      <td>0.236320</td>\n",
              "      <td>-0.050162</td>\n",
              "    </tr>\n",
              "    <tr>\n",
              "      <th>dti</th>\n",
              "      <td>0.016636</td>\n",
              "      <td>0.079038</td>\n",
              "      <td>0.015786</td>\n",
              "      <td>-0.081685</td>\n",
              "      <td>1.000000</td>\n",
              "      <td>0.136181</td>\n",
              "      <td>-0.017639</td>\n",
              "      <td>0.063571</td>\n",
              "      <td>0.088375</td>\n",
              "      <td>0.102128</td>\n",
              "      <td>-0.025439</td>\n",
              "      <td>-0.014558</td>\n",
              "    </tr>\n",
              "    <tr>\n",
              "      <th>open_acc</th>\n",
              "      <td>0.198556</td>\n",
              "      <td>0.011649</td>\n",
              "      <td>0.188973</td>\n",
              "      <td>0.136150</td>\n",
              "      <td>0.136181</td>\n",
              "      <td>1.000000</td>\n",
              "      <td>-0.018392</td>\n",
              "      <td>0.221192</td>\n",
              "      <td>-0.131420</td>\n",
              "      <td>0.680728</td>\n",
              "      <td>0.109205</td>\n",
              "      <td>-0.027732</td>\n",
              "    </tr>\n",
              "    <tr>\n",
              "      <th>pub_rec</th>\n",
              "      <td>-0.077779</td>\n",
              "      <td>0.060986</td>\n",
              "      <td>-0.067892</td>\n",
              "      <td>-0.013720</td>\n",
              "      <td>-0.017639</td>\n",
              "      <td>-0.018392</td>\n",
              "      <td>1.000000</td>\n",
              "      <td>-0.101664</td>\n",
              "      <td>-0.075910</td>\n",
              "      <td>0.019723</td>\n",
              "      <td>0.011552</td>\n",
              "      <td>0.699408</td>\n",
              "    </tr>\n",
              "    <tr>\n",
              "      <th>revol_bal</th>\n",
              "      <td>0.328320</td>\n",
              "      <td>-0.011280</td>\n",
              "      <td>0.316455</td>\n",
              "      <td>0.299773</td>\n",
              "      <td>0.063571</td>\n",
              "      <td>0.221192</td>\n",
              "      <td>-0.101664</td>\n",
              "      <td>1.000000</td>\n",
              "      <td>0.226346</td>\n",
              "      <td>0.191616</td>\n",
              "      <td>0.194925</td>\n",
              "      <td>-0.124532</td>\n",
              "    </tr>\n",
              "    <tr>\n",
              "      <th>revol_util</th>\n",
              "      <td>0.099911</td>\n",
              "      <td>0.293659</td>\n",
              "      <td>0.123915</td>\n",
              "      <td>0.027871</td>\n",
              "      <td>0.088375</td>\n",
              "      <td>-0.131420</td>\n",
              "      <td>-0.075910</td>\n",
              "      <td>0.226346</td>\n",
              "      <td>1.000000</td>\n",
              "      <td>-0.104273</td>\n",
              "      <td>0.007514</td>\n",
              "      <td>-0.086751</td>\n",
              "    </tr>\n",
              "    <tr>\n",
              "      <th>total_acc</th>\n",
              "      <td>0.223886</td>\n",
              "      <td>-0.036404</td>\n",
              "      <td>0.202430</td>\n",
              "      <td>0.193023</td>\n",
              "      <td>0.102128</td>\n",
              "      <td>0.680728</td>\n",
              "      <td>0.019723</td>\n",
              "      <td>0.191616</td>\n",
              "      <td>-0.104273</td>\n",
              "      <td>1.000000</td>\n",
              "      <td>0.381072</td>\n",
              "      <td>0.042035</td>\n",
              "    </tr>\n",
              "    <tr>\n",
              "      <th>mort_acc</th>\n",
              "      <td>0.222315</td>\n",
              "      <td>-0.082583</td>\n",
              "      <td>0.193694</td>\n",
              "      <td>0.236320</td>\n",
              "      <td>-0.025439</td>\n",
              "      <td>0.109205</td>\n",
              "      <td>0.011552</td>\n",
              "      <td>0.194925</td>\n",
              "      <td>0.007514</td>\n",
              "      <td>0.381072</td>\n",
              "      <td>1.000000</td>\n",
              "      <td>0.027239</td>\n",
              "    </tr>\n",
              "    <tr>\n",
              "      <th>pub_rec_bankruptcies</th>\n",
              "      <td>-0.106539</td>\n",
              "      <td>0.057450</td>\n",
              "      <td>-0.098628</td>\n",
              "      <td>-0.050162</td>\n",
              "      <td>-0.014558</td>\n",
              "      <td>-0.027732</td>\n",
              "      <td>0.699408</td>\n",
              "      <td>-0.124532</td>\n",
              "      <td>-0.086751</td>\n",
              "      <td>0.042035</td>\n",
              "      <td>0.027239</td>\n",
              "      <td>1.000000</td>\n",
              "    </tr>\n",
              "  </tbody>\n",
              "</table>\n",
              "</div>"
            ],
            "text/plain": [
              "                      loan_amnt  int_rate  ...  mort_acc  pub_rec_bankruptcies\n",
              "loan_amnt              1.000000  0.168921  ...  0.222315             -0.106539\n",
              "int_rate               0.168921  1.000000  ... -0.082583              0.057450\n",
              "installment            0.953929  0.162758  ...  0.193694             -0.098628\n",
              "annual_inc             0.336887 -0.056771  ...  0.236320             -0.050162\n",
              "dti                    0.016636  0.079038  ... -0.025439             -0.014558\n",
              "open_acc               0.198556  0.011649  ...  0.109205             -0.027732\n",
              "pub_rec               -0.077779  0.060986  ...  0.011552              0.699408\n",
              "revol_bal              0.328320 -0.011280  ...  0.194925             -0.124532\n",
              "revol_util             0.099911  0.293659  ...  0.007514             -0.086751\n",
              "total_acc              0.223886 -0.036404  ...  0.381072              0.042035\n",
              "mort_acc               0.222315 -0.082583  ...  1.000000              0.027239\n",
              "pub_rec_bankruptcies  -0.106539  0.057450  ...  0.027239              1.000000\n",
              "\n",
              "[12 rows x 12 columns]"
            ]
          },
          "metadata": {
            "tags": []
          },
          "execution_count": 19
        }
      ]
    },
    {
      "cell_type": "code",
      "metadata": {
        "id": "xO-ud_xJ2z4x",
        "colab_type": "code",
        "colab": {
          "base_uri": "https://localhost:8080/",
          "height": 549
        },
        "outputId": "27f38315-cceb-4d64-b020-124c16f437d0"
      },
      "source": [
        "# plot a heatmap\n",
        "plt.figure(figsize=(12,7))\n",
        "sns.heatmap(df.corr(),annot=True, cmap='viridis')"
      ],
      "execution_count": null,
      "outputs": [
        {
          "output_type": "execute_result",
          "data": {
            "text/plain": [
              "<matplotlib.axes._subplots.AxesSubplot at 0x7fb78107fba8>"
            ]
          },
          "metadata": {
            "tags": []
          },
          "execution_count": 20
        },
        {
          "output_type": "display_data",
          "data": {
            "image/png": "[encoded data removed]",
            "text/plain": [
              "<Figure size 864x504 with 2 Axes>"
            ]
          },
          "metadata": {
            "tags": []
          }
        }
      ]
    },
    {
      "cell_type": "code",
      "metadata": {
        "id": "NpLvJKkl26yp",
        "colab_type": "code",
        "colab": {
          "base_uri": "https://localhost:8080/",
          "height": 296
        },
        "outputId": "3a27c969-6521-4133-fb9d-f84e664c7e88"
      },
      "source": [
        "# Here, we can notice almost perfect correlation with the \"installment\" feature\n",
        "# plot scatter plot between installment and loan_amnt\n",
        "sns.scatterplot(x=df[\"installment\"], y =df[\"loan_amnt\"])"
      ],
      "execution_count": null,
      "outputs": [
        {
          "output_type": "execute_result",
          "data": {
            "text/plain": [
              "<matplotlib.axes._subplots.AxesSubplot at 0x7fb77d3c3b38>"
            ]
          },
          "metadata": {
            "tags": []
          },
          "execution_count": 21
        },
        {
          "output_type": "display_data",
          "data": {
            "image/png": "[encoded data removed]",
            "text/plain": [
              "<Figure size 432x288 with 1 Axes>"
            ]
          },
          "metadata": {
            "tags": []
          }
        }
      ]
    },
    {
      "cell_type": "code",
      "metadata": {
        "id": "tL1lA96z3X_v",
        "colab_type": "code",
        "colab": {
          "base_uri": "https://localhost:8080/",
          "height": 296
        },
        "outputId": "42a2b1f9-2001-470a-c169-b852a885d47a"
      },
      "source": [
        "# we find some corr between 'total_acc' (The total number of credit lines currently in the borrower's credit file) and 'open_acc' (The number of open credit lines in the borrower's credit file.)\n",
        "#so plot the scatter plot to see the relation between them\n",
        "sns.scatterplot(y=df[\"total_acc\"], x = df[\"open_acc\"])"
      ],
      "execution_count": null,
      "outputs": [
        {
          "output_type": "execute_result",
          "data": {
            "text/plain": [
              "<matplotlib.axes._subplots.AxesSubplot at 0x7fb77bbbc358>"
            ]
          },
          "metadata": {
            "tags": []
          },
          "execution_count": 22
        },
        {
          "output_type": "display_data",
          "data": {
            "image/png": "[encoded data removed]",
            "text/plain": [
              "<Figure size 432x288 with 1 Axes>"
            ]
          },
          "metadata": {
            "tags": []
          }
        }
      ]
    },
    {
      "cell_type": "code",
      "metadata": {
        "id": "f5Ni46hi4aNP",
        "colab_type": "code",
        "colab": {
          "base_uri": "https://localhost:8080/",
          "height": 297
        },
        "outputId": "51e74af1-a8f6-49ff-c4a8-d1c3990d6e10"
      },
      "source": [
        "# creating boxplot showing the relationship between the loan_status and the Loan Amount.\n",
        "sns.boxplot(x = df[\"loan_status\"], y = df[\"loan_amnt\"])"
      ],
      "execution_count": null,
      "outputs": [
        {
          "output_type": "execute_result",
          "data": {
            "text/plain": [
              "<matplotlib.axes._subplots.AxesSubplot at 0x7fb77bb69668>"
            ]
          },
          "metadata": {
            "tags": []
          },
          "execution_count": 23
        },
        {
          "output_type": "display_data",
          "data": {
            "image/png": "[encoded data removed]",
            "text/plain": [
              "<Figure size 432x288 with 1 Axes>"
            ]
          },
          "metadata": {
            "tags": []
          }
        }
      ]
    },
    {
      "cell_type": "code",
      "metadata": {
        "id": "asaHVWME4riQ",
        "colab_type": "code",
        "colab": {
          "base_uri": "https://localhost:8080/",
          "height": 136
        },
        "outputId": "5dc379ef-7468-4955-f9c3-508b14c33a3c"
      },
      "source": [
        "# summary statistics for the loan amount, grouped by the loan_status.\n",
        "df.groupby(\"loan_status\")['loan_amnt'].describe()"
      ],
      "execution_count": null,
      "outputs": [
        {
          "output_type": "execute_result",
          "data": {
            "text/html": [
              "<div>\n",
              "<style scoped>\n",
              "    .dataframe tbody tr th:only-of-type {\n",
              "        vertical-align: middle;\n",
              "    }\n",
              "\n",
              "    .dataframe tbody tr th {\n",
              "        vertical-align: top;\n",
              "    }\n",
              "\n",
              "    .dataframe thead th {\n",
              "        text-align: right;\n",
              "    }\n",
              "</style>\n",
              "<table border=\"1\" class=\"dataframe\">\n",
              "  <thead>\n",
              "    <tr style=\"text-align: right;\">\n",
              "      <th></th>\n",
              "      <th>count</th>\n",
              "      <th>mean</th>\n",
              "      <th>std</th>\n",
              "      <th>min</th>\n",
              "      <th>25%</th>\n",
              "      <th>50%</th>\n",
              "      <th>75%</th>\n",
              "      <th>max</th>\n",
              "    </tr>\n",
              "    <tr>\n",
              "      <th>loan_status</th>\n",
              "      <th></th>\n",
              "      <th></th>\n",
              "      <th></th>\n",
              "      <th></th>\n",
              "      <th></th>\n",
              "      <th></th>\n",
              "      <th></th>\n",
              "      <th></th>\n",
              "    </tr>\n",
              "  </thead>\n",
              "  <tbody>\n",
              "    <tr>\n",
              "      <th>Charged Off</th>\n",
              "      <td>77673.0</td>\n",
              "      <td>15126.300967</td>\n",
              "      <td>8505.090557</td>\n",
              "      <td>1000.0</td>\n",
              "      <td>8525.0</td>\n",
              "      <td>14000.0</td>\n",
              "      <td>20000.0</td>\n",
              "      <td>40000.0</td>\n",
              "    </tr>\n",
              "    <tr>\n",
              "      <th>Fully Paid</th>\n",
              "      <td>318357.0</td>\n",
              "      <td>13866.878771</td>\n",
              "      <td>8302.319699</td>\n",
              "      <td>500.0</td>\n",
              "      <td>7500.0</td>\n",
              "      <td>12000.0</td>\n",
              "      <td>19225.0</td>\n",
              "      <td>40000.0</td>\n",
              "    </tr>\n",
              "  </tbody>\n",
              "</table>\n",
              "</div>"
            ],
            "text/plain": [
              "                count          mean          std  ...      50%      75%      max\n",
              "loan_status                                       ...                           \n",
              "Charged Off   77673.0  15126.300967  8505.090557  ...  14000.0  20000.0  40000.0\n",
              "Fully Paid   318357.0  13866.878771  8302.319699  ...  12000.0  19225.0  40000.0\n",
              "\n",
              "[2 rows x 8 columns]"
            ]
          },
          "metadata": {
            "tags": []
          },
          "execution_count": 24
        }
      ]
    },
    {
      "cell_type": "code",
      "metadata": {
        "id": "l1KDPIms44OA",
        "colab_type": "code",
        "colab": {
          "base_uri": "https://localhost:8080/",
          "height": 168
        },
        "outputId": "02db8832-992c-4853-b5ca-29130b359ad5"
      },
      "source": [
        "# Let's explore the Grade and SubGrade columns\n",
        "print(\"Grade column\\n\")\n",
        "print(df[\"grade\"].unique())\n",
        "print(\"\\nsubgrade column\\n\")\n",
        "print(df[\"sub_grade\"].unique())"
      ],
      "execution_count": null,
      "outputs": [
        {
          "output_type": "stream",
          "text": [
            "Grade column\n",
            "\n",
            "['B' 'A' 'C' 'E' 'D' 'F' 'G']\n",
            "\n",
            "subgrade column\n",
            "\n",
            "['B4' 'B5' 'B3' 'A2' 'C5' 'C3' 'A1' 'B2' 'C1' 'A5' 'E4' 'A4' 'A3' 'D1'\n",
            " 'C2' 'B1' 'D3' 'D5' 'D2' 'E1' 'E2' 'E5' 'F4' 'E3' 'D4' 'G1' 'F5' 'G2'\n",
            " 'C4' 'F1' 'F3' 'G5' 'G4' 'F2' 'G3']\n"
          ],
          "name": "stdout"
        }
      ]
    },
    {
      "cell_type": "code",
      "metadata": {
        "id": "md3bmxKl5YvZ",
        "colab_type": "code",
        "colab": {
          "base_uri": "https://localhost:8080/",
          "height": 297
        },
        "outputId": "210ca052-0fdd-43cd-ed6f-bf440c9d07d4"
      },
      "source": [
        "sns.countplot(x=df['grade'])"
      ],
      "execution_count": null,
      "outputs": [
        {
          "output_type": "execute_result",
          "data": {
            "text/plain": [
              "<matplotlib.axes._subplots.AxesSubplot at 0x7fb77badf550>"
            ]
          },
          "metadata": {
            "tags": []
          },
          "execution_count": 26
        },
        {
          "output_type": "display_data",
          "data": {
            "image/png": "[encoded data removed]",
            "text/plain": [
              "<Figure size 432x288 with 1 Axes>"
            ]
          },
          "metadata": {
            "tags": []
          }
        }
      ]
    },
    {
      "cell_type": "code",
      "metadata": {
        "id": "VeyuIlYg5qNa",
        "colab_type": "code",
        "colab": {
          "base_uri": "https://localhost:8080/",
          "height": 296
        },
        "outputId": "e968c5d3-4f2f-4e2a-ca83-c7c797194238"
      },
      "source": [
        "sns.countplot(x=df['grade'],hue=df[\"loan_status\"])"
      ],
      "execution_count": null,
      "outputs": [
        {
          "output_type": "execute_result",
          "data": {
            "text/plain": [
              "<matplotlib.axes._subplots.AxesSubplot at 0x7fb77ba621d0>"
            ]
          },
          "metadata": {
            "tags": []
          },
          "execution_count": 27
        },
        {
          "output_type": "display_data",
          "data": {
            "image/png": "[encoded data removed]",
            "text/plain": [
              "<Figure size 432x288 with 1 Axes>"
            ]
          },
          "metadata": {
            "tags": []
          }
        }
      ]
    },
    {
      "cell_type": "code",
      "metadata": {
        "id": "fSCQ5jyf540H",
        "colab_type": "code",
        "colab": {
          "base_uri": "https://localhost:8080/",
          "height": 297
        },
        "outputId": "1907764d-988f-4c4d-ac5c-05f17534b44c"
      },
      "source": [
        "# display countplot per sungrade\n",
        "#CODE HERE\n",
        "plt.figure(figsize=(12,4))\n",
        "sub_gradeorder = sorted(df[\"sub_grade\"].unique()) #some thing new to learn\n",
        "sns.countplot(df[\"sub_grade\"],order=sub_gradeorder,palette='coolwarm',hue='loan_status', data = df )"
      ],
      "execution_count": null,
      "outputs": [
        {
          "output_type": "execute_result",
          "data": {
            "text/plain": [
              "<matplotlib.axes._subplots.AxesSubplot at 0x7fb77b9f7b00>"
            ]
          },
          "metadata": {
            "tags": []
          },
          "execution_count": 28
        },
        {
          "output_type": "display_data",
          "data": {
            "image/png": "[encoded data removed]",
            "text/plain": [
              "<Figure size 864x288 with 1 Axes>"
            ]
          },
          "metadata": {
            "tags": []
          }
        }
      ]
    },
    {
      "cell_type": "code",
      "metadata": {
        "id": "D7M9gD4M6HGe",
        "colab_type": "code",
        "colab": {
          "base_uri": "https://localhost:8080/",
          "height": 297
        },
        "outputId": "8b9baafb-6667-4d50-a479-837485d3f0fd"
      },
      "source": [
        "#  It looks like F and G subgrades don't get paid back that often. Isloate those and recreate the countplot just for those subgrades.\n",
        "f_and_g = df[(df[\"grade\"] == 'G') | (df[\"grade\"] == 'F')]\n",
        "f_and_g\n",
        "sub_gradeorder = sorted(f_and_g[\"sub_grade\"].unique())\n",
        "sns.countplot(f_and_g[\"sub_grade\"],order=sub_gradeorder,hue='loan_status',data=df)"
      ],
      "execution_count": null,
      "outputs": [
        {
          "output_type": "execute_result",
          "data": {
            "text/plain": [
              "<matplotlib.axes._subplots.AxesSubplot at 0x7fb77b85c320>"
            ]
          },
          "metadata": {
            "tags": []
          },
          "execution_count": 29
        },
        {
          "output_type": "display_data",
          "data": {
            "image/png": "[encoded data removed]",
            "text/plain": [
              "<Figure size 432x288 with 1 Axes>"
            ]
          },
          "metadata": {
            "tags": []
          }
        }
      ]
    },
    {
      "cell_type": "code",
      "metadata": {
        "id": "vh_fqdNFlY6v",
        "colab_type": "code",
        "colab": {
          "base_uri": "https://localhost:8080/",
          "height": 402
        },
        "outputId": "619d4c27-6760-43e6-eed8-334d58a1caab"
      },
      "source": [
        "# Creating a new column called 'loan_repaid' which will contain a 1 if the loan status was \"Fully Paid\" and a 0 if it was \"Charged Off\".\n",
        "from sklearn.preprocessing import LabelEncoder\n",
        "\n",
        "# Apply label encoder\n",
        "label_encoder = LabelEncoder()\n",
        "df[\"loan_repaid\"] = label_encoder.fit_transform(df[\"loan_status\"])\n",
        "df[[\"loan_repaid\", \"loan_status\"]]"
      ],
      "execution_count": null,
      "outputs": [
        {
          "output_type": "execute_result",
          "data": {
            "text/html": [
              "<div>\n",
              "<style scoped>\n",
              "    .dataframe tbody tr th:only-of-type {\n",
              "        vertical-align: middle;\n",
              "    }\n",
              "\n",
              "    .dataframe tbody tr th {\n",
              "        vertical-align: top;\n",
              "    }\n",
              "\n",
              "    .dataframe thead th {\n",
              "        text-align: right;\n",
              "    }\n",
              "</style>\n",
              "<table border=\"1\" class=\"dataframe\">\n",
              "  <thead>\n",
              "    <tr style=\"text-align: right;\">\n",
              "      <th></th>\n",
              "      <th>loan_repaid</th>\n",
              "      <th>loan_status</th>\n",
              "    </tr>\n",
              "  </thead>\n",
              "  <tbody>\n",
              "    <tr>\n",
              "      <th>0</th>\n",
              "      <td>1</td>\n",
              "      <td>Fully Paid</td>\n",
              "    </tr>\n",
              "    <tr>\n",
              "      <th>1</th>\n",
              "      <td>1</td>\n",
              "      <td>Fully Paid</td>\n",
              "    </tr>\n",
              "    <tr>\n",
              "      <th>2</th>\n",
              "      <td>1</td>\n",
              "      <td>Fully Paid</td>\n",
              "    </tr>\n",
              "    <tr>\n",
              "      <th>3</th>\n",
              "      <td>1</td>\n",
              "      <td>Fully Paid</td>\n",
              "    </tr>\n",
              "    <tr>\n",
              "      <th>4</th>\n",
              "      <td>0</td>\n",
              "      <td>Charged Off</td>\n",
              "    </tr>\n",
              "    <tr>\n",
              "      <th>...</th>\n",
              "      <td>...</td>\n",
              "      <td>...</td>\n",
              "    </tr>\n",
              "    <tr>\n",
              "      <th>396025</th>\n",
              "      <td>1</td>\n",
              "      <td>Fully Paid</td>\n",
              "    </tr>\n",
              "    <tr>\n",
              "      <th>396026</th>\n",
              "      <td>1</td>\n",
              "      <td>Fully Paid</td>\n",
              "    </tr>\n",
              "    <tr>\n",
              "      <th>396027</th>\n",
              "      <td>1</td>\n",
              "      <td>Fully Paid</td>\n",
              "    </tr>\n",
              "    <tr>\n",
              "      <th>396028</th>\n",
              "      <td>1</td>\n",
              "      <td>Fully Paid</td>\n",
              "    </tr>\n",
              "    <tr>\n",
              "      <th>396029</th>\n",
              "      <td>1</td>\n",
              "      <td>Fully Paid</td>\n",
              "    </tr>\n",
              "  </tbody>\n",
              "</table>\n",
              "<p>396030 rows × 2 columns</p>\n",
              "</div>"
            ],
            "text/plain": [
              "        loan_repaid  loan_status\n",
              "0                 1   Fully Paid\n",
              "1                 1   Fully Paid\n",
              "2                 1   Fully Paid\n",
              "3                 1   Fully Paid\n",
              "4                 0  Charged Off\n",
              "...             ...          ...\n",
              "396025            1   Fully Paid\n",
              "396026            1   Fully Paid\n",
              "396027            1   Fully Paid\n",
              "396028            1   Fully Paid\n",
              "396029            1   Fully Paid\n",
              "\n",
              "[396030 rows x 2 columns]"
            ]
          },
          "metadata": {
            "tags": []
          },
          "execution_count": 30
        }
      ]
    },
    {
      "cell_type": "markdown",
      "metadata": {
        "id": "KnLGAsAZmGTD",
        "colab_type": "text"
      },
      "source": [
        "**Data** **PreProcessing**"
      ]
    },
    {
      "cell_type": "code",
      "metadata": {
        "id": "e1KVuzWxlZlp",
        "colab_type": "code",
        "colab": {
          "base_uri": "https://localhost:8080/",
          "height": 34
        },
        "outputId": "16a3c3f5-2f95-450f-de75-35f98344dcee"
      },
      "source": [
        "df.head(3)\n",
        "print(len(df))"
      ],
      "execution_count": null,
      "outputs": [
        {
          "output_type": "stream",
          "text": [
            "396030\n"
          ],
          "name": "stdout"
        }
      ]
    },
    {
      "cell_type": "code",
      "metadata": {
        "id": "bpsriXX_mdp6",
        "colab_type": "code",
        "colab": {
          "base_uri": "https://localhost:8080/",
          "height": 1000
        },
        "outputId": "e84af589-d708-406d-bd91-86f02b069be1"
      },
      "source": [
        "# Create a Series that displays the total count of missing values per column. \n",
        "print(df.isnull().sum())\n",
        "print(\"\\n Series to be in term of percentage of the total DataFrame\") \n",
        "print(100*df.isnull().sum()/len(df))"
      ],
      "execution_count": null,
      "outputs": [
        {
          "output_type": "stream",
          "text": [
            "loan_amnt                   0\n",
            "term                        0\n",
            "int_rate                    0\n",
            "installment                 0\n",
            "grade                       0\n",
            "sub_grade                   0\n",
            "emp_title               22927\n",
            "emp_length              18301\n",
            "home_ownership              0\n",
            "annual_inc                  0\n",
            "verification_status         0\n",
            "issue_d                     0\n",
            "loan_status                 0\n",
            "purpose                     0\n",
            "title                    1755\n",
            "dti                         0\n",
            "earliest_cr_line            0\n",
            "open_acc                    0\n",
            "pub_rec                     0\n",
            "revol_bal                   0\n",
            "revol_util                276\n",
            "total_acc                   0\n",
            "initial_list_status         0\n",
            "application_type            0\n",
            "mort_acc                37795\n",
            "pub_rec_bankruptcies      535\n",
            "address                     0\n",
            "loan_repaid                 0\n",
            "dtype: int64\n",
            "\n",
            " Series to be in term of percentage of the total DataFrame\n",
            "loan_amnt               0.000000\n",
            "term                    0.000000\n",
            "int_rate                0.000000\n",
            "installment             0.000000\n",
            "grade                   0.000000\n",
            "sub_grade               0.000000\n",
            "emp_title               5.789208\n",
            "emp_length              4.621115\n",
            "home_ownership          0.000000\n",
            "annual_inc              0.000000\n",
            "verification_status     0.000000\n",
            "issue_d                 0.000000\n",
            "loan_status             0.000000\n",
            "purpose                 0.000000\n",
            "title                   0.443148\n",
            "dti                     0.000000\n",
            "earliest_cr_line        0.000000\n",
            "open_acc                0.000000\n",
            "pub_rec                 0.000000\n",
            "revol_bal               0.000000\n",
            "revol_util              0.069692\n",
            "total_acc               0.000000\n",
            "initial_list_status     0.000000\n",
            "application_type        0.000000\n",
            "mort_acc                9.543469\n",
            "pub_rec_bankruptcies    0.135091\n",
            "address                 0.000000\n",
            "loan_repaid             0.000000\n",
            "dtype: float64\n"
          ],
          "name": "stdout"
        }
      ]
    },
    {
      "cell_type": "code",
      "metadata": {
        "id": "-IRqXfzxmdxD",
        "colab_type": "code",
        "colab": {
          "base_uri": "https://localhost:8080/",
          "height": 34
        },
        "outputId": "7a0da525-54e4-414e-f1d5-6fef5bda8b28"
      },
      "source": [
        "# Let's examine 'emp_title' and 'emp_length'\n",
        "# emp_title :The job title supplied by the Borrower when applying for the loan\n",
        "# emp_length :Employment length in years. Possible values are between 0 and 10 where 0 means less than one year and 10 means ten or more years. \n",
        "print(df[\"emp_title\"].nunique())\n"
      ],
      "execution_count": null,
      "outputs": [
        {
          "output_type": "stream",
          "text": [
            "173105\n"
          ],
          "name": "stdout"
        }
      ]
    },
    {
      "cell_type": "code",
      "metadata": {
        "id": "X-FfkUUAoxFz",
        "colab_type": "code",
        "colab": {}
      },
      "source": [
        "# Realistically there are too many unique job titles(173105) to try to convert this to a dummy variable feature. Let's remove that emp_title column.\n",
        "df = df.drop(\"emp_title\",axis = 1)\n",
        "# so, 'revol_util' and the 'pub_rec_bankruptcies' have missing data points, but they account for less than 0.5% of the total data as seen from percetage table\n",
        "df = df.dropna()"
      ],
      "execution_count": null,
      "outputs": []
    },
    {
      "cell_type": "code",
      "metadata": {
        "id": "eaMmSILUnYlM",
        "colab_type": "code",
        "colab": {
          "base_uri": "https://localhost:8080/",
          "height": 314
        },
        "outputId": "ddcd2380-ffe2-4298-dbeb-f0af12c730db"
      },
      "source": [
        "print(sorted(df[\"emp_length\"].dropna().unique()))\n",
        "plt.figure(figsize=(12,4))\n",
        "emp_length_order = [ '< 1 year',\n",
        "                      '1 year',\n",
        "                     '2 years',\n",
        "                     '3 years',\n",
        "                     '4 years',\n",
        "                     '5 years',\n",
        "                     '6 years',\n",
        "                     '7 years',\n",
        "                     '8 years',\n",
        "                     '9 years',\n",
        "                     '10+ years']\n",
        "sns.countplot(x = \"emp_length\", data = df, order = emp_length_order, hue = \"loan_status\")"
      ],
      "execution_count": null,
      "outputs": [
        {
          "output_type": "stream",
          "text": [
            "['1 year', '10+ years', '2 years', '3 years', '4 years', '5 years', '6 years', '7 years', '8 years', '9 years', '< 1 year']\n"
          ],
          "name": "stdout"
        },
        {
          "output_type": "execute_result",
          "data": {
            "text/plain": [
              "<matplotlib.axes._subplots.AxesSubplot at 0x7fb77af31a90>"
            ]
          },
          "metadata": {
            "tags": []
          },
          "execution_count": 35
        },
        {
          "output_type": "display_data",
          "data": {
            "image/png": "[encoded data removed]",
            "text/plain": [
              "<Figure size 864x288 with 1 Axes>"
            ]
          },
          "metadata": {
            "tags": []
          }
        }
      ]
    },
    {
      "cell_type": "markdown",
      "metadata": {
        "id": "UHdjzbRUrTjM",
        "colab_type": "text"
      },
      "source": [
        "we want to get relationship between employment length and being charged off, i.e percentage of charge offs per category. Essentially informing us what percent of people per employment category didn't pay back their loan. "
      ]
    },
    {
      "cell_type": "code",
      "metadata": {
        "id": "8ZAvN87zrh06",
        "colab_type": "code",
        "colab": {
          "base_uri": "https://localhost:8080/",
          "height": 339
        },
        "outputId": "af653258-4e36-4f5e-def3-11285b55daf3"
      },
      "source": [
        "df_co = df[df[\"loan_status\"] == \"Charged Off\"].groupby(\"emp_length\").count()[\"loan_status\"]\n",
        "df_fp = df[df[\"loan_status\"] == \"Fully Paid\"].groupby(\"emp_length\").count()[\"loan_status\"]\n",
        "emp_len = df_co/df_fp\n",
        "emp_len.plot(kind = 'bar')"
      ],
      "execution_count": null,
      "outputs": [
        {
          "output_type": "execute_result",
          "data": {
            "text/plain": [
              "<matplotlib.axes._subplots.AxesSubplot at 0x7fb77a76cef0>"
            ]
          },
          "metadata": {
            "tags": []
          },
          "execution_count": 36
        },
        {
          "output_type": "display_data",
          "data": {
            "image/png": "[encoded data removed]",
            "text/plain": [
              "<Figure size 432x288 with 1 Axes>"
            ]
          },
          "metadata": {
            "tags": []
          }
        }
      ]
    },
    {
      "cell_type": "code",
      "metadata": {
        "id": "LSZZLgzfs20P",
        "colab_type": "code",
        "colab": {}
      },
      "source": [
        "# Charge off rates are extremely similar across all employment lengths. so, drop the emp_length column\n",
        "df = df.drop(\"emp_length\", axis = 1)"
      ],
      "execution_count": null,
      "outputs": []
    },
    {
      "cell_type": "code",
      "metadata": {
        "id": "HLyN_HihttI7",
        "colab_type": "code",
        "colab": {
          "base_uri": "https://localhost:8080/",
          "height": 420
        },
        "outputId": "0c3f6ccf-77f8-4b11-dfd1-d94cb155ef83"
      },
      "source": [
        "print(df[\"title\"].head(10))\n",
        "print(\"\\n\")\n",
        "print(df[\"purpose\"].head(10))"
      ],
      "execution_count": null,
      "outputs": [
        {
          "output_type": "stream",
          "text": [
            "0                   Vacation\n",
            "1         Debt consolidation\n",
            "2    Credit card refinancing\n",
            "3    Credit card refinancing\n",
            "4      Credit Card Refinance\n",
            "5         Debt consolidation\n",
            "6           Home improvement\n",
            "7       No More Credit Cards\n",
            "8         Debt consolidation\n",
            "9         Debt Consolidation\n",
            "Name: title, dtype: object\n",
            "\n",
            "\n",
            "0              vacation\n",
            "1    debt_consolidation\n",
            "2           credit_card\n",
            "3           credit_card\n",
            "4           credit_card\n",
            "5    debt_consolidation\n",
            "6      home_improvement\n",
            "7           credit_card\n",
            "8    debt_consolidation\n",
            "9    debt_consolidation\n",
            "Name: purpose, dtype: object\n"
          ],
          "name": "stdout"
        }
      ]
    },
    {
      "cell_type": "code",
      "metadata": {
        "id": "8R8h89ujt6U2",
        "colab_type": "code",
        "colab": {}
      },
      "source": [
        "# Here we can see that both columns are nothing but same. Hence, we drop one of the column\n",
        "df = df.drop(\"title\", axis = 1)"
      ],
      "execution_count": null,
      "outputs": []
    },
    {
      "cell_type": "code",
      "metadata": {
        "id": "oCglGk3tuSHT",
        "colab_type": "code",
        "colab": {
          "base_uri": "https://localhost:8080/",
          "height": 588
        },
        "outputId": "9a00cd35-aa42-477f-a7ab-fb4a547b9d74"
      },
      "source": [
        "# \"mort_acc\" : Number of mortgage accounts.\n",
        "df[\"mort_acc\"].value_counts()"
      ],
      "execution_count": null,
      "outputs": [
        {
          "output_type": "execute_result",
          "data": {
            "text/plain": [
              "0.0     132730\n",
              "1.0      57544\n",
              "2.0      47319\n",
              "3.0      35797\n",
              "4.0      26224\n",
              "5.0      17112\n",
              "6.0      10401\n",
              "7.0       5660\n",
              "8.0       2951\n",
              "9.0       1558\n",
              "10.0       817\n",
              "11.0       448\n",
              "12.0       246\n",
              "13.0       136\n",
              "14.0       104\n",
              "15.0        60\n",
              "16.0        36\n",
              "17.0        20\n",
              "18.0        17\n",
              "19.0        14\n",
              "20.0        12\n",
              "24.0         9\n",
              "22.0         7\n",
              "21.0         4\n",
              "25.0         4\n",
              "27.0         3\n",
              "23.0         2\n",
              "32.0         2\n",
              "26.0         2\n",
              "31.0         2\n",
              "30.0         1\n",
              "28.0         1\n",
              "34.0         1\n",
              "Name: mort_acc, dtype: int64"
            ]
          },
          "metadata": {
            "tags": []
          },
          "execution_count": 40
        }
      ]
    },
    {
      "cell_type": "code",
      "metadata": {
        "id": "nhOWEtYNulVQ",
        "colab_type": "code",
        "colab": {
          "base_uri": "https://localhost:8080/",
          "height": 235
        },
        "outputId": "26aae19c-ccf0-4585-f693-a12d095d2de4"
      },
      "source": [
        "'''\n",
        "Here we calculate corr of mort_acc with every other feature and from that we can find out to which\n",
        "feature mort_acc is highly correlated.\n",
        "so, we can fill mising value based on mean of the that column\n",
        "'''\n",
        "df.corr()[\"mort_acc\"].drop(\"mort_acc\").sort_values()"
      ],
      "execution_count": null,
      "outputs": [
        {
          "output_type": "execute_result",
          "data": {
            "text/plain": [
              "int_rate               -0.080808\n",
              "dti                    -0.057879\n",
              "revol_util              0.009101\n",
              "pub_rec                 0.013554\n",
              "pub_rec_bankruptcies    0.028581\n",
              "loan_repaid             0.072013\n",
              "open_acc                0.107809\n",
              "installment             0.194675\n",
              "revol_bal               0.198635\n",
              "loan_amnt               0.224000\n",
              "annual_inc              0.238951\n",
              "total_acc               0.379183\n",
              "Name: mort_acc, dtype: float64"
            ]
          },
          "metadata": {
            "tags": []
          },
          "execution_count": 41
        }
      ]
    },
    {
      "cell_type": "code",
      "metadata": {
        "id": "3955wnwOv3m3",
        "colab_type": "code",
        "colab": {
          "base_uri": "https://localhost:8080/",
          "height": 504
        },
        "outputId": "60b9c8ad-6e49-4e9a-cb5d-5ac73733e12c"
      },
      "source": [
        "# total_acc feature correlates with the mort_acc \n",
        "print(\"Mean of mort_acc column per total_acc\")\n",
        "print(df.groupby('total_acc').mean())\n",
        "print(df.groupby('total_acc').mean()[\"mort_acc\"])"
      ],
      "execution_count": null,
      "outputs": [
        {
          "output_type": "stream",
          "text": [
            "Mean of mort_acc column per total_acc\n",
            "              loan_amnt   int_rate  ...  pub_rec_bankruptcies  loan_repaid\n",
            "total_acc                           ...                                   \n",
            "2.0         7068.750000  16.807500  ...              0.000000     0.750000\n",
            "3.0         6283.435583  16.983497  ...              0.012270     0.834356\n",
            "4.0         8491.914498  15.670582  ...              0.022305     0.791822\n",
            "5.0         8492.549787  15.351031  ...              0.046942     0.794452\n",
            "6.0         9093.593315  15.102971  ...              0.052925     0.779016\n",
            "...                 ...        ...  ...                   ...          ...\n",
            "124.0      23200.000000  17.860000  ...              0.000000     0.000000\n",
            "129.0      25000.000000   7.890000  ...              0.000000     1.000000\n",
            "135.0      24000.000000  15.410000  ...              0.000000     1.000000\n",
            "150.0      35000.000000   8.670000  ...              0.000000     1.000000\n",
            "151.0      35000.000000  13.990000  ...              0.000000     0.000000\n",
            "\n",
            "[117 rows x 12 columns]\n",
            "total_acc\n",
            "2.0      0.000000\n",
            "3.0      0.042945\n",
            "4.0      0.069393\n",
            "5.0      0.100284\n",
            "6.0      0.148097\n",
            "           ...   \n",
            "124.0    1.000000\n",
            "129.0    1.000000\n",
            "135.0    3.000000\n",
            "150.0    2.000000\n",
            "151.0    0.000000\n",
            "Name: mort_acc, Length: 117, dtype: float64\n"
          ],
          "name": "stdout"
        }
      ]
    },
    {
      "cell_type": "code",
      "metadata": {
        "id": "rbYhwFKPwJF6",
        "colab_type": "code",
        "colab": {}
      },
      "source": [
        "total_acc_mean = df.groupby('total_acc').mean()[\"mort_acc\"]\n",
        "def fill_mort_acc(total_acc,mort_acc):\n",
        "    '''\n",
        "    Accepts the total_acc and mort_acc values for the row.\n",
        "    Checks if the mort_acc is NaN , if so, it returns the avg mort_acc value\n",
        "    for the corresponding total_acc value for that row.\n",
        "    \n",
        "    total_acc_avg here should be a Series or dictionary containing the mapping of the\n",
        "    groupby averages of mort_acc per total_acc values.\n",
        "    '''\n",
        "    if np.isnan(mort_acc):\n",
        "        return total_acc_avg[total_acc]\n",
        "    else:\n",
        "        return mort_acc\n",
        "df[\"mort_acc\"] = df.apply(lambda x: fill_mort_acc(x[\"mort_acc\"], x[\"total_acc\"]), axis = 1)"
      ],
      "execution_count": null,
      "outputs": []
    },
    {
      "cell_type": "code",
      "metadata": {
        "id": "PJcueql-x8Sj",
        "colab_type": "code",
        "colab": {
          "base_uri": "https://localhost:8080/",
          "height": 454
        },
        "outputId": "6542d759-66bb-4a90-af90-dce46787c4b8"
      },
      "source": [
        "df.isnull().sum()"
      ],
      "execution_count": null,
      "outputs": [
        {
          "output_type": "execute_result",
          "data": {
            "text/plain": [
              "loan_amnt               0\n",
              "term                    0\n",
              "int_rate                0\n",
              "installment             0\n",
              "grade                   0\n",
              "sub_grade               0\n",
              "home_ownership          0\n",
              "annual_inc              0\n",
              "verification_status     0\n",
              "issue_d                 0\n",
              "loan_status             0\n",
              "purpose                 0\n",
              "dti                     0\n",
              "earliest_cr_line        0\n",
              "open_acc                0\n",
              "pub_rec                 0\n",
              "revol_bal               0\n",
              "revol_util              0\n",
              "total_acc               0\n",
              "initial_list_status     0\n",
              "application_type        0\n",
              "mort_acc                0\n",
              "pub_rec_bankruptcies    0\n",
              "address                 0\n",
              "loan_repaid             0\n",
              "dtype: int64"
            ]
          },
          "metadata": {
            "tags": []
          },
          "execution_count": 44
        }
      ]
    },
    {
      "cell_type": "markdown",
      "metadata": {
        "id": "RFrnJNUSyQHb",
        "colab_type": "text"
      },
      "source": [
        "**Categorical Variables Encoding**"
      ]
    },
    {
      "cell_type": "code",
      "metadata": {
        "id": "bDCCzQkMyLJi",
        "colab_type": "code",
        "colab": {
          "base_uri": "https://localhost:8080/",
          "height": 84
        },
        "outputId": "7b6c6ae9-4b27-401c-9f85-70a82fe24207"
      },
      "source": [
        "df.select_dtypes([\"object\"]).columns"
      ],
      "execution_count": null,
      "outputs": [
        {
          "output_type": "execute_result",
          "data": {
            "text/plain": [
              "Index(['term', 'grade', 'sub_grade', 'home_ownership', 'verification_status',\n",
              "       'issue_d', 'loan_status', 'purpose', 'earliest_cr_line',\n",
              "       'initial_list_status', 'application_type', 'address'],\n",
              "      dtype='object')"
            ]
          },
          "metadata": {
            "tags": []
          },
          "execution_count": 45
        }
      ]
    },
    {
      "cell_type": "code",
      "metadata": {
        "id": "pIUerckcycC4",
        "colab_type": "code",
        "colab": {
          "base_uri": "https://localhost:8080/",
          "height": 67
        },
        "outputId": "d3a0d792-9ad1-4103-bcb4-51820d02a48b"
      },
      "source": [
        "df[\"term\"].value_counts()"
      ],
      "execution_count": null,
      "outputs": [
        {
          "output_type": "execute_result",
          "data": {
            "text/plain": [
              " 36 months    257727\n",
              " 60 months     81517\n",
              "Name: term, dtype: int64"
            ]
          },
          "metadata": {
            "tags": []
          },
          "execution_count": 46
        }
      ]
    },
    {
      "cell_type": "code",
      "metadata": {
        "id": "_XcVRuFnyjb5",
        "colab_type": "code",
        "colab": {}
      },
      "source": [
        "# 'term' has two unique values 36 and 60. we can encode into int column\n",
        "df[\"term\"] = df[\"term\"].apply(lambda term: int(term[:3]))"
      ],
      "execution_count": null,
      "outputs": []
    },
    {
      "cell_type": "code",
      "metadata": {
        "id": "h0H1ThcPy3Nn",
        "colab_type": "code",
        "colab": {}
      },
      "source": [
        "'''\n",
        "we know grade is part of subgrade so drop grade column\n",
        "and creat dummy variable for sun_grade column\n",
        "'''\n",
        "df = df.drop(\"grade\", axis = 1)\n",
        "subgrade_dummies = pd.get_dummies(df[\"sub_grade\"], drop_first=True)\n",
        "df = pd.concat([df.drop(\"sub_grade\", axis = 1), subgrade_dummies], axis = 1)"
      ],
      "execution_count": null,
      "outputs": []
    },
    {
      "cell_type": "code",
      "metadata": {
        "id": "H7CVhaA9zTpw",
        "colab_type": "code",
        "colab": {}
      },
      "source": [
        "'''\n",
        "similarly creat dummy variables for 'verification_status', 'application_type', 'initial_list_status', 'purpose'\n",
        "'''\n",
        "dummies = pd.get_dummies(df[['verification_status', 'application_type', 'initial_list_status', 'purpose']], drop_first=True)\n",
        "df = pd.concat([df.drop(['verification_status', 'application_type', 'initial_list_status', 'purpose'], axis = 1), dummies], axis = 1)"
      ],
      "execution_count": null,
      "outputs": []
    },
    {
      "cell_type": "code",
      "metadata": {
        "id": "H193q_Pezsjc",
        "colab_type": "code",
        "colab": {
          "base_uri": "https://localhost:8080/",
          "height": 134
        },
        "outputId": "c53be9c6-97c6-49f3-c1c2-890146cea3be"
      },
      "source": [
        "# review value_count for 'home_ownership'\n",
        "df['home_ownership'].value_counts()"
      ],
      "execution_count": null,
      "outputs": [
        {
          "output_type": "execute_result",
          "data": {
            "text/plain": [
              "MORTGAGE    172634\n",
              "RENT        135144\n",
              "OWN          31404\n",
              "OTHER           31\n",
              "NONE            28\n",
              "ANY              3\n",
              "Name: home_ownership, dtype: int64"
            ]
          },
          "metadata": {
            "tags": []
          },
          "execution_count": 50
        }
      ]
    },
    {
      "cell_type": "code",
      "metadata": {
        "id": "wZC0uSffz32R",
        "colab_type": "code",
        "colab": {}
      },
      "source": [
        "'''\n",
        "Here, we can repalce NONE and ANY OTHER. so, our unique values will get reduce\n",
        "Then after, Creat dummy variable for 'home_ownership'\n",
        "'''\n",
        "df[\"home_ownership\"] = df['home_ownership'].replace([\"NONE\", \"ANY\"], \"OTHER\")\n",
        "dummies = pd.get_dummies(df[\"home_ownership\"], drop_first=True)\n",
        "df = pd.concat([df.drop(\"home_ownership\", axis = 1), dummies], axis = 1)"
      ],
      "execution_count": null,
      "outputs": []
    },
    {
      "cell_type": "code",
      "metadata": {
        "id": "zzKlZH6w0isW",
        "colab_type": "code",
        "colab": {}
      },
      "source": [
        "'''\n",
        "Address colums has long addresses which are not unique.\n",
        "so, we can applay feature engg. on them and can extract zip_code from address which are some what unique \n",
        "and can added as one column of zip_code\n",
        "Creat dummy variable for zip_code column\n",
        "'''\n",
        "df[\"zip_code\"] = df[\"address\"].apply(lambda x: x[-5:])\n",
        "df = df.drop(\"address\", axis = 1)\n",
        "dummies = pd.get_dummies(df[\"zip_code\"], drop_first = True)\n",
        "df = pd.concat([df.drop(\"zip_code\", axis = 1), dummies], axis = 1)"
      ],
      "execution_count": null,
      "outputs": []
    },
    {
      "cell_type": "code",
      "metadata": {
        "id": "SpUsEERa11ZB",
        "colab_type": "code",
        "colab": {}
      },
      "source": [
        "df = df.drop(\"issue_d\", axis = 1)"
      ],
      "execution_count": null,
      "outputs": []
    },
    {
      "cell_type": "code",
      "metadata": {
        "id": "DGHxn8ji2Gop",
        "colab_type": "code",
        "colab": {}
      },
      "source": [
        "# \"earliest_cr_line\": The month the borrower's earliest reported credit line was opened\n",
        "# We will only take year from this column and creat new column of year\n",
        "df[\"earliest_cr_year\"] = df[\"earliest_cr_line\"].apply(lambda x: int(x[-4:]))\n",
        "df = df.drop(\"earliest_cr_line\", axis = 1)"
      ],
      "execution_count": null,
      "outputs": []
    },
    {
      "cell_type": "code",
      "metadata": {
        "id": "FDPWoLKt2gS0",
        "colab_type": "code",
        "colab": {}
      },
      "source": [
        "# As we already created a loan_repaid column which is equivalent column of loan_status. We will drop loan_status column\n",
        "df = df.drop(\"loan_status\", axis = 1)"
      ],
      "execution_count": null,
      "outputs": []
    },
    {
      "cell_type": "code",
      "metadata": {
        "id": "JS0LTS4R2nms",
        "colab_type": "code",
        "colab": {}
      },
      "source": [
        "X = df.drop('loan_repaid',axis=1).values\n",
        "y = df['loan_repaid'].values"
      ],
      "execution_count": null,
      "outputs": []
    },
    {
      "cell_type": "code",
      "metadata": {
        "id": "7FlNo-vZ29zy",
        "colab_type": "code",
        "colab": {}
      },
      "source": [
        "from sklearn.model_selection import train_test_split\n",
        "X_train, X_test, y_train, y_test = train_test_split(X, y, test_size=0.30, random_state=101)"
      ],
      "execution_count": null,
      "outputs": []
    },
    {
      "cell_type": "code",
      "metadata": {
        "id": "13gE8ZWb3djN",
        "colab_type": "code",
        "colab": {}
      },
      "source": [
        "'''\n",
        "Use a MinMaxScaler to normalize the feature data X_train and X_test.\n",
        "we don't want data leakge from the test set so we only fit on the X_train data.\n",
        "'''\n",
        "from sklearn.preprocessing import MinMaxScaler\n",
        "scaler = MinMaxScaler()\n",
        "X_train = scaler.fit_transform(X_train)\n",
        "X_test = scaler.transform(X_test)"
      ],
      "execution_count": null,
      "outputs": []
    },
    {
      "cell_type": "code",
      "metadata": {
        "id": "wREfBZcv4I6W",
        "colab_type": "code",
        "colab": {}
      },
      "source": [
        "%tensorflow_version 2.x\n",
        "import tensorflow as tf\n",
        "from tensorflow.keras.models import Sequential\n",
        "from tensorflow.keras.layers import Dense, Activation,Dropout\n",
        "from tensorflow.keras.constraints import max_norm"
      ],
      "execution_count": null,
      "outputs": []
    },
    {
      "cell_type": "code",
      "metadata": {
        "id": "6pWd6H356fH1",
        "colab_type": "code",
        "colab": {}
      },
      "source": [
        "def creat_model():\n",
        "  model = Sequential()\n",
        "# input layer\n",
        "  model.add(Dense(78,  activation='relu'))\n",
        "  model.add(tf.keras.layers.BatchNormalization())  \n",
        "  model.add(Dropout(0.2))\n",
        "\n",
        "# hidden layer\n",
        "  model.add(Dense(39, activation='relu')) \n",
        "  model.add(tf.keras.layers.BatchNormalization())\n",
        "  model.add(Dropout(0.3))\n",
        "\n",
        "# hidden layer\n",
        "  model.add(Dense(39, activation='relu')) \n",
        "  model.add(tf.keras.layers.BatchNormalization())\n",
        "  model.add(Dropout(0.4))\n",
        "\n",
        "# hidden layer\n",
        "  model.add(Dense(19, activation='relu'))\n",
        "  model.add(tf.keras.layers.BatchNormalization())\n",
        "  model.add(Dropout(0.5))\n",
        "\n",
        "# hidden layer\n",
        "  model.add(Dense(19, activation='relu'))\n",
        "  model.add(tf.keras.layers.BatchNormalization())\n",
        "  model.add(Dropout(0.5))\n",
        "\n",
        "# output layer\n",
        "  model.add(Dense(units=1,activation='sigmoid'))\n",
        "  return model"
      ],
      "execution_count": null,
      "outputs": []
    },
    {
      "cell_type": "code",
      "metadata": {
        "id": "NrcoZBco8oWo",
        "colab_type": "code",
        "colab": {}
      },
      "source": [
        "model = creat_model()"
      ],
      "execution_count": null,
      "outputs": []
    },
    {
      "cell_type": "code",
      "metadata": {
        "id": "7NYxbj-edmmO",
        "colab_type": "code",
        "colab": {}
      },
      "source": [
        "# Compile model\n",
        "model.compile(loss='binary_crossentropy', optimizer=tf.keras.optimizers.Adam(learning_rate=0.001),metrics=['accuracy'])"
      ],
      "execution_count": null,
      "outputs": []
    },
    {
      "cell_type": "code",
      "metadata": {
        "id": "aPZySjKjeNsl",
        "colab_type": "code",
        "colab": {
          "base_uri": "https://localhost:8080/",
          "height": 890
        },
        "outputId": "9207d9b2-059b-40f5-fb6c-e877d28e255c"
      },
      "source": [
        "model.fit(x=X_train, \n",
        "          y=y_train, \n",
        "          epochs=25,\n",
        "          batch_size=256,\n",
        "          validation_data=(X_test, y_test), \n",
        "          )"
      ],
      "execution_count": null,
      "outputs": [
        {
          "output_type": "stream",
          "text": [
            "Train on 237470 samples, validate on 101774 samples\n",
            "Epoch 1/25\n",
            "237470/237470 [==============================] - 14s 58us/sample - loss: 0.4864 - accuracy: 0.8022 - val_loss: 0.2929 - val_accuracy: 0.8885\n",
            "Epoch 2/25\n",
            "237470/237470 [==============================] - 11s 45us/sample - loss: 0.3128 - accuracy: 0.8814 - val_loss: 0.2679 - val_accuracy: 0.8886\n",
            "Epoch 3/25\n",
            "237470/237470 [==============================] - 10s 40us/sample - loss: 0.2909 - accuracy: 0.8837 - val_loss: 0.2631 - val_accuracy: 0.8885\n",
            "Epoch 4/25\n",
            "237470/237470 [==============================] - 10s 42us/sample - loss: 0.2815 - accuracy: 0.8849 - val_loss: 0.2603 - val_accuracy: 0.8886\n",
            "Epoch 5/25\n",
            "237470/237470 [==============================] - 10s 43us/sample - loss: 0.2782 - accuracy: 0.8849 - val_loss: 0.2591 - val_accuracy: 0.8885\n",
            "Epoch 6/25\n",
            "237470/237470 [==============================] - 10s 42us/sample - loss: 0.2747 - accuracy: 0.8854 - val_loss: 0.2585 - val_accuracy: 0.8885\n",
            "Epoch 7/25\n",
            "237470/237470 [==============================] - 10s 42us/sample - loss: 0.2730 - accuracy: 0.8857 - val_loss: 0.2589 - val_accuracy: 0.8884\n",
            "Epoch 8/25\n",
            "237470/237470 [==============================] - 11s 45us/sample - loss: 0.2724 - accuracy: 0.8860 - val_loss: 0.2574 - val_accuracy: 0.8885\n",
            "Epoch 9/25\n",
            "237470/237470 [==============================] - 10s 41us/sample - loss: 0.2709 - accuracy: 0.8857 - val_loss: 0.2570 - val_accuracy: 0.8886\n",
            "Epoch 10/25\n",
            "237470/237470 [==============================] - 10s 43us/sample - loss: 0.2700 - accuracy: 0.8862 - val_loss: 0.2570 - val_accuracy: 0.8885\n",
            "Epoch 11/25\n",
            "237470/237470 [==============================] - 10s 42us/sample - loss: 0.2697 - accuracy: 0.8858 - val_loss: 0.2571 - val_accuracy: 0.8885\n",
            "Epoch 12/25\n",
            "237470/237470 [==============================] - 10s 42us/sample - loss: 0.2690 - accuracy: 0.8862 - val_loss: 0.2569 - val_accuracy: 0.8884\n",
            "Epoch 13/25\n",
            "237470/237470 [==============================] - 10s 42us/sample - loss: 0.2687 - accuracy: 0.8862 - val_loss: 0.2567 - val_accuracy: 0.8885\n",
            "Epoch 14/25\n",
            "237470/237470 [==============================] - 10s 43us/sample - loss: 0.2683 - accuracy: 0.8865 - val_loss: 0.2566 - val_accuracy: 0.8884\n",
            "Epoch 15/25\n",
            "237470/237470 [==============================] - 10s 42us/sample - loss: 0.2683 - accuracy: 0.8865 - val_loss: 0.2566 - val_accuracy: 0.8884\n",
            "Epoch 16/25\n",
            "237470/237470 [==============================] - 10s 41us/sample - loss: 0.2678 - accuracy: 0.8860 - val_loss: 0.2569 - val_accuracy: 0.8885\n",
            "Epoch 17/25\n",
            "237470/237470 [==============================] - 10s 40us/sample - loss: 0.2680 - accuracy: 0.8860 - val_loss: 0.2568 - val_accuracy: 0.8885\n",
            "Epoch 18/25\n",
            "237470/237470 [==============================] - 10s 40us/sample - loss: 0.2671 - accuracy: 0.8862 - val_loss: 0.2567 - val_accuracy: 0.8885\n",
            "Epoch 19/25\n",
            "237470/237470 [==============================] - 10s 43us/sample - loss: 0.2661 - accuracy: 0.8866 - val_loss: 0.2565 - val_accuracy: 0.8885\n",
            "Epoch 20/25\n",
            "237470/237470 [==============================] - 10s 43us/sample - loss: 0.2665 - accuracy: 0.8863 - val_loss: 0.2568 - val_accuracy: 0.8885\n",
            "Epoch 21/25\n",
            "237470/237470 [==============================] - 10s 43us/sample - loss: 0.2665 - accuracy: 0.8862 - val_loss: 0.2563 - val_accuracy: 0.8885\n",
            "Epoch 22/25\n",
            "237470/237470 [==============================] - 10s 40us/sample - loss: 0.2662 - accuracy: 0.8863 - val_loss: 0.2564 - val_accuracy: 0.8885\n",
            "Epoch 23/25\n",
            "237470/237470 [==============================] - 9s 40us/sample - loss: 0.2658 - accuracy: 0.8863 - val_loss: 0.2568 - val_accuracy: 0.8884\n",
            "Epoch 24/25\n",
            "237470/237470 [==============================] - 10s 41us/sample - loss: 0.2657 - accuracy: 0.8863 - val_loss: 0.2575 - val_accuracy: 0.8884\n",
            "Epoch 25/25\n",
            "237470/237470 [==============================] - 10s 41us/sample - loss: 0.2654 - accuracy: 0.8868 - val_loss: 0.2564 - val_accuracy: 0.8886\n"
          ],
          "name": "stdout"
        },
        {
          "output_type": "execute_result",
          "data": {
            "text/plain": [
              "<tensorflow.python.keras.callbacks.History at 0x7fb7643d0eb8>"
            ]
          },
          "metadata": {
            "tags": []
          },
          "execution_count": 63
        }
      ]
    },
    {
      "cell_type": "code",
      "metadata": {
        "id": "waMGWIOoeUu1",
        "colab_type": "code",
        "colab": {}
      },
      "source": [
        "from tensorflow.keras.models import load_model\n",
        "#model.save('full_data_project_model.h5')\n",
        "model.save('/content/drive/My Drive/full_data_project_model.hdf5')  "
      ],
      "execution_count": null,
      "outputs": []
    },
    {
      "cell_type": "code",
      "metadata": {
        "id": "XDJVRp3Bop2u",
        "colab_type": "code",
        "colab": {}
      },
      "source": [
        "model.load_model('/content/drive/My Drive/full_data_project_model.hdf5')"
      ],
      "execution_count": null,
      "outputs": []
    },
    {
      "cell_type": "code",
      "metadata": {
        "id": "IAzmLL36fMPa",
        "colab_type": "code",
        "colab": {
          "base_uri": "https://localhost:8080/",
          "height": 282
        },
        "outputId": "fb567c8b-4791-4d78-d632-d0aac8ea4226"
      },
      "source": [
        "losses = pd.DataFrame(model.history.history)\n",
        "losses[['loss','val_loss']].plot()"
      ],
      "execution_count": null,
      "outputs": [
        {
          "output_type": "execute_result",
          "data": {
            "text/plain": [
              "<matplotlib.axes._subplots.AxesSubplot at 0x7fb7607b4f98>"
            ]
          },
          "metadata": {
            "tags": []
          },
          "execution_count": 64
        },
        {
          "output_type": "display_data",
          "data": {
            "image/png": "[encoded data removed]",
            "text/plain": [
              "<Figure size 432x288 with 1 Axes>"
            ]
          },
          "metadata": {
            "tags": []
          }
        }
      ]
    },
    {
      "cell_type": "code",
      "metadata": {
        "id": "jECbXE9GfSNv",
        "colab_type": "code",
        "colab": {
          "base_uri": "https://localhost:8080/",
          "height": 168
        },
        "outputId": "a2582c85-48b4-4255-bf11-f8e1e212cd25"
      },
      "source": [
        "from sklearn.metrics import classification_report,confusion_matrix\n",
        "predictions = model.predict_classes(X_test)\n",
        "print(classification_report(y_test,predictions))"
      ],
      "execution_count": null,
      "outputs": [
        {
          "output_type": "stream",
          "text": [
            "              precision    recall  f1-score   support\n",
            "\n",
            "           0       0.99      0.43      0.60     19803\n",
            "           1       0.88      1.00      0.94     81971\n",
            "\n",
            "    accuracy                           0.89    101774\n",
            "   macro avg       0.94      0.71      0.77    101774\n",
            "weighted avg       0.90      0.89      0.87    101774\n",
            "\n"
          ],
          "name": "stdout"
        }
      ]
    },
    {
      "cell_type": "code",
      "metadata": {
        "id": "wValYdbofmC_",
        "colab_type": "code",
        "colab": {}
      },
      "source": [
        "#tf.keras.models.load_model('full_data_project_model.h5')"
      ],
      "execution_count": null,
      "outputs": []
    },
    {
      "cell_type": "markdown",
      "metadata": {
        "id": "sEAcWcgtMoSZ",
        "colab_type": "text"
      },
      "source": [
        "**Check the pridiction on one of the user from given dataset**"
      ]
    },
    {
      "cell_type": "code",
      "metadata": {
        "id": "ft_879DsMr2t",
        "colab_type": "code",
        "colab": {}
      },
      "source": [
        "import random\n",
        "random.seed(101)\n",
        "random_ind = random.randint(0,len(df))\n",
        "new_customer = df.drop(\"loan_repaid\", axis = 1).iloc(random_ind)"
      ],
      "execution_count": null,
      "outputs": []
    },
    {
      "cell_type": "code",
      "metadata": {
        "id": "FdlXXa-rOOGs",
        "colab_type": "code",
        "colab": {}
      },
      "source": [
        "new_customer = scaler.transform(new_customer.values.reshape((1,78)))"
      ],
      "execution_count": null,
      "outputs": []
    },
    {
      "cell_type": "code",
      "metadata": {
        "id": "5PrfDXZTOyNT",
        "colab_type": "code",
        "colab": {}
      },
      "source": [
        "model.predict_classes(new_customer)"
      ],
      "execution_count": null,
      "outputs": []
    },
    {
      "cell_type": "code",
      "metadata": {
        "id": "5tuaWoNcPBdq",
        "colab_type": "code",
        "colab": {}
      },
      "source": [
        "df[\"loan_repaid\"].iloc(random_ind)"
      ],
      "execution_count": null,
      "outputs": []
    }
  ]
}