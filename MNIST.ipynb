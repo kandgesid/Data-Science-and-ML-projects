{
  "nbformat": 4,
  "nbformat_minor": 0,
  "metadata": {
    "colab": {
      "name": "MNIST.ipynb",
      "provenance": [],
      "collapsed_sections": [],
      "include_colab_link": true
    },
    "kernelspec": {
      "name": "python3",
      "display_name": "Python 3"
    },
    "accelerator": "GPU"
  },
  "cells": [
    {
      "cell_type": "markdown",
      "metadata": {
        "id": "view-in-github",
        "colab_type": "text"
      },
      "source": [
        "<a href=\"https://colab.research.google.com/github/kandgesid/Data-Science-and-ML-projects/blob/master/MNIST.ipynb\" target=\"_parent\"><img src=\"https://colab.research.google.com/assets/colab-badge.svg\" alt=\"Open In Colab\"/></a>"
      ]
    },
    {
      "cell_type": "code",
      "metadata": {
        "colab_type": "code",
        "id": "udt8NgV6zCTg",
        "colab": {
          "base_uri": "https://localhost:8080/",
          "height": 84
        },
        "outputId": "243a2c34-e0d0-43b8-bfca-5e6ee5f19e09"
      },
      "source": [
        "!pip install h5py pyyaml"
      ],
      "execution_count": null,
      "outputs": [
        {
          "output_type": "stream",
          "text": [
            "Requirement already satisfied: h5py in /tensorflow-2.1.0/python3.6 (2.10.0)\n",
            "Requirement already satisfied: pyyaml in /usr/local/lib/python3.6/dist-packages (3.13)\n",
            "Requirement already satisfied: six in /tensorflow-2.1.0/python3.6 (from h5py) (1.14.0)\n",
            "Requirement already satisfied: numpy>=1.7 in /tensorflow-2.1.0/python3.6 (from h5py) (1.18.1)\n"
          ],
          "name": "stdout"
        }
      ]
    },
    {
      "cell_type": "code",
      "metadata": {
        "id": "YzQPEyJAzGK1",
        "colab_type": "code",
        "colab": {}
      },
      "source": [
        "%tensorflow_version 2.x"
      ],
      "execution_count": null,
      "outputs": []
    },
    {
      "cell_type": "code",
      "metadata": {
        "id": "zNMwdDQ8nZtQ",
        "colab_type": "code",
        "colab": {}
      },
      "source": [
        "import os\n",
        "import numpy as np\n",
        "import pandas as pd\n",
        "import matplotlib.pyplot as plt\n"
      ],
      "execution_count": null,
      "outputs": []
    },
    {
      "cell_type": "code",
      "metadata": {
        "id": "p95SnXcdn0It",
        "colab_type": "code",
        "colab": {}
      },
      "source": [
        "from tensorflow.keras import Sequential\n",
        "from tensorflow.keras.layers import Conv2D, MaxPool2D, Dense, Flatten, Dropout\n",
        "import tensorflow as tf\n"
      ],
      "execution_count": null,
      "outputs": []
    },
    {
      "cell_type": "code",
      "metadata": {
        "id": "BFV_NMnDoIVe",
        "colab_type": "code",
        "colab": {
          "base_uri": "https://localhost:8080/",
          "height": 34
        },
        "outputId": "f58f6534-0881-4169-9724-51e86e122e03"
      },
      "source": [
        "print(tf.__version__)"
      ],
      "execution_count": null,
      "outputs": [
        {
          "output_type": "stream",
          "text": [
            "2.1.0\n"
          ],
          "name": "stdout"
        }
      ]
    },
    {
      "cell_type": "code",
      "metadata": {
        "id": "ZJ3jbc8soMvy",
        "colab_type": "code",
        "colab": {}
      },
      "source": [
        "from tensorflow.keras.datasets import mnist"
      ],
      "execution_count": null,
      "outputs": []
    },
    {
      "cell_type": "code",
      "metadata": {
        "id": "EbV40VFIocKi",
        "colab_type": "code",
        "colab": {}
      },
      "source": [
        "(X_train, y_train), (X_test, y_test) = mnist.load_data()"
      ],
      "execution_count": null,
      "outputs": []
    },
    {
      "cell_type": "code",
      "metadata": {
        "id": "bdqjKAFuomC0",
        "colab_type": "code",
        "colab": {
          "base_uri": "https://localhost:8080/",
          "height": 282
        },
        "outputId": "84ff825c-97f7-4104-8c14-75043f61b464"
      },
      "source": [
        "plt.imshow(X_train[3])"
      ],
      "execution_count": null,
      "outputs": [
        {
          "output_type": "execute_result",
          "data": {
            "text/plain": [
              "<matplotlib.image.AxesImage at 0x7f894605d3c8>"
            ]
          },
          "metadata": {
            "tags": []
          },
          "execution_count": 63
        },
        {
          "output_type": "display_data",
          "data": {
            "image/png": "[encoded data removed]",
            "text/plain": [
              "<Figure size 432x288 with 1 Axes>"
            ]
          },
          "metadata": {
            "tags": []
          }
        }
      ]
    },
    {
      "cell_type": "code",
      "metadata": {
        "id": "cJ0ofbxqo38u",
        "colab_type": "code",
        "colab": {
          "base_uri": "https://localhost:8080/",
          "height": 34
        },
        "outputId": "13d748a7-763c-4324-81f3-1e2cea775321"
      },
      "source": [
        "X_train.shape"
      ],
      "execution_count": null,
      "outputs": [
        {
          "output_type": "execute_result",
          "data": {
            "text/plain": [
              "(60000, 28, 28)"
            ]
          },
          "metadata": {
            "tags": []
          },
          "execution_count": 64
        }
      ]
    },
    {
      "cell_type": "code",
      "metadata": {
        "id": "eV65QKd2o7vB",
        "colab_type": "code",
        "colab": {
          "base_uri": "https://localhost:8080/",
          "height": 34
        },
        "outputId": "b8ea8242-de38-4284-a6d3-c0af2805b69d"
      },
      "source": [
        "X_test.shape"
      ],
      "execution_count": null,
      "outputs": [
        {
          "output_type": "execute_result",
          "data": {
            "text/plain": [
              "(10000, 28, 28)"
            ]
          },
          "metadata": {
            "tags": []
          },
          "execution_count": 65
        }
      ]
    },
    {
      "cell_type": "code",
      "metadata": {
        "id": "SHXSiyV9o_Xs",
        "colab_type": "code",
        "colab": {
          "base_uri": "https://localhost:8080/",
          "height": 34
        },
        "outputId": "6be90eca-5b47-40e3-925e-2e417d2f18b1"
      },
      "source": [
        "X_train.max()"
      ],
      "execution_count": null,
      "outputs": [
        {
          "output_type": "execute_result",
          "data": {
            "text/plain": [
              "255"
            ]
          },
          "metadata": {
            "tags": []
          },
          "execution_count": 66
        }
      ]
    },
    {
      "cell_type": "code",
      "metadata": {
        "id": "At62NnmnpCiZ",
        "colab_type": "code",
        "colab": {}
      },
      "source": [
        "X_train = X_train/255.0\n",
        "X_test = X_test/255.0"
      ],
      "execution_count": null,
      "outputs": []
    },
    {
      "cell_type": "code",
      "metadata": {
        "id": "ogJRIdM6pK0N",
        "colab_type": "code",
        "colab": {}
      },
      "source": [
        "X_train = X_train.reshape(60000, 28, 28, 1)\n",
        "X_test = X_test.reshape(10000, 28, 28, 1)"
      ],
      "execution_count": null,
      "outputs": []
    },
    {
      "cell_type": "code",
      "metadata": {
        "id": "0dulaEWvpXb_",
        "colab_type": "code",
        "colab": {
          "base_uri": "https://localhost:8080/",
          "height": 34
        },
        "outputId": "abc8bd2e-a451-44e1-de00-7d1d21fd3009"
      },
      "source": [
        "X_train[0].shape"
      ],
      "execution_count": null,
      "outputs": [
        {
          "output_type": "execute_result",
          "data": {
            "text/plain": [
              "(28, 28, 1)"
            ]
          },
          "metadata": {
            "tags": []
          },
          "execution_count": 69
        }
      ]
    },
    {
      "cell_type": "code",
      "metadata": {
        "id": "7F0BPPl6pcO-",
        "colab_type": "code",
        "colab": {}
      },
      "source": [
        "input_shape = X_train[0].shape"
      ],
      "execution_count": null,
      "outputs": []
    },
    {
      "cell_type": "code",
      "metadata": {
        "id": "wlPnMNKOpico",
        "colab_type": "code",
        "colab": {
          "base_uri": "https://localhost:8080/",
          "height": 420
        },
        "outputId": "a82d6963-4c2e-4593-c7e9-1462edeba798"
      },
      "source": [
        "def create_model():\n",
        "  model = Sequential()\n",
        "  model.add(Conv2D(filters=32, kernel_size=(3, 3), activation= 'relu', input_shape = input_shape))\n",
        "  model.add(Conv2D(64, (3, 3), activation='relu'))\n",
        "  model.add(MaxPool2D(2, 2))\n",
        "  model.add(Dropout(0.25))\n",
        "\n",
        "  model.add(Flatten())\n",
        "  model.add(Dense(128, activation='relu'))\n",
        "  model.add(Dropout(0.5))\n",
        "  model.add(Dense(10, activation='softmax'))\n",
        "\n",
        "  model.compile(loss='sparse_categorical_crossentropy', optimizer = 'adam', metrics=['accuracy'])\n",
        "\n",
        "  return model\n",
        "\n",
        "model = create_model()\n",
        "model.summary()\n"
      ],
      "execution_count": null,
      "outputs": [
        {
          "output_type": "stream",
          "text": [
            "Model: \"sequential_6\"\n",
            "_________________________________________________________________\n",
            "Layer (type)                 Output Shape              Param #   \n",
            "=================================================================\n",
            "conv2d_12 (Conv2D)           (None, 26, 26, 32)        320       \n",
            "_________________________________________________________________\n",
            "conv2d_13 (Conv2D)           (None, 24, 24, 64)        18496     \n",
            "_________________________________________________________________\n",
            "max_pooling2d_6 (MaxPooling2 (None, 12, 12, 64)        0         \n",
            "_________________________________________________________________\n",
            "dropout_12 (Dropout)         (None, 12, 12, 64)        0         \n",
            "_________________________________________________________________\n",
            "flatten_6 (Flatten)          (None, 9216)              0         \n",
            "_________________________________________________________________\n",
            "dense_12 (Dense)             (None, 128)               1179776   \n",
            "_________________________________________________________________\n",
            "dropout_13 (Dropout)         (None, 128)               0         \n",
            "_________________________________________________________________\n",
            "dense_13 (Dense)             (None, 10)                1290      \n",
            "=================================================================\n",
            "Total params: 1,199,882\n",
            "Trainable params: 1,199,882\n",
            "Non-trainable params: 0\n",
            "_________________________________________________________________\n"
          ],
          "name": "stdout"
        }
      ]
    },
    {
      "cell_type": "code",
      "metadata": {
        "id": "1wrn11s9xcYc",
        "colab_type": "code",
        "colab": {
          "base_uri": "https://localhost:8080/",
          "height": 706
        },
        "outputId": "4287ebdd-a1b5-45db-a8d1-adfde85b4329"
      },
      "source": [
        "file_path = \"/content/drive/My Drive/DSAI/MNIST/epoch:{epoch:03d}.hdf5\"\n",
        "# Create checkpoint callback\n",
        "cp_callback = tf.keras.callbacks.ModelCheckpoint(file_path, \n",
        "                                                 save_weights_only=True,\n",
        "                                                 monitor = 'val_acc',\n",
        "                                                 verbose=1)\n",
        "\n",
        "model = create_model()\n",
        "model.fit(X_train, y_train, batch_size = 128, epochs = 10, verbose = 1, validation_data = (X_test, y_test), callbacks=[cp_callback])\n",
        "model.save('my_model.h5')\n"
      ],
      "execution_count": null,
      "outputs": [
        {
          "output_type": "stream",
          "text": [
            "Train on 60000 samples, validate on 10000 samples\n",
            "Epoch 1/10\n",
            "59136/60000 [============================>.] - ETA: 0s - loss: 0.2426 - accuracy: 0.9259\n",
            "Epoch 00001: saving model to /content/drive/My Drive/DSAI/MNIST/epoch:001.hdf5\n",
            "60000/60000 [==============================] - 5s 81us/sample - loss: 0.2408 - accuracy: 0.9264 - val_loss: 0.0549 - val_accuracy: 0.9818\n",
            "Epoch 2/10\n",
            "59136/60000 [============================>.] - ETA: 0s - loss: 0.0895 - accuracy: 0.9736\n",
            "Epoch 00002: saving model to /content/drive/My Drive/DSAI/MNIST/epoch:002.hdf5\n",
            "60000/60000 [==============================] - 4s 70us/sample - loss: 0.0891 - accuracy: 0.9737 - val_loss: 0.0421 - val_accuracy: 0.9869\n",
            "Epoch 3/10\n",
            "59392/60000 [============================>.] - ETA: 0s - loss: 0.0694 - accuracy: 0.9787\n",
            "Epoch 00003: saving model to /content/drive/My Drive/DSAI/MNIST/epoch:003.hdf5\n",
            "60000/60000 [==============================] - 4s 70us/sample - loss: 0.0693 - accuracy: 0.9788 - val_loss: 0.0355 - val_accuracy: 0.9883\n",
            "Epoch 4/10\n",
            "59904/60000 [============================>.] - ETA: 0s - loss: 0.0551 - accuracy: 0.9833\n",
            "Epoch 00004: saving model to /content/drive/My Drive/DSAI/MNIST/epoch:004.hdf5\n",
            "60000/60000 [==============================] - 4s 71us/sample - loss: 0.0552 - accuracy: 0.9832 - val_loss: 0.0314 - val_accuracy: 0.9898\n",
            "Epoch 5/10\n",
            "59520/60000 [============================>.] - ETA: 0s - loss: 0.0449 - accuracy: 0.9858\n",
            "Epoch 00005: saving model to /content/drive/My Drive/DSAI/MNIST/epoch:005.hdf5\n",
            "60000/60000 [==============================] - 4s 74us/sample - loss: 0.0449 - accuracy: 0.9858 - val_loss: 0.0302 - val_accuracy: 0.9901\n",
            "Epoch 6/10\n",
            "59008/60000 [============================>.] - ETA: 0s - loss: 0.0392 - accuracy: 0.9874\n",
            "Epoch 00006: saving model to /content/drive/My Drive/DSAI/MNIST/epoch:006.hdf5\n",
            "60000/60000 [==============================] - 4s 73us/sample - loss: 0.0392 - accuracy: 0.9874 - val_loss: 0.0299 - val_accuracy: 0.9911\n",
            "Epoch 7/10\n",
            "59392/60000 [============================>.] - ETA: 0s - loss: 0.0381 - accuracy: 0.9878\n",
            "Epoch 00007: saving model to /content/drive/My Drive/DSAI/MNIST/epoch:007.hdf5\n",
            "60000/60000 [==============================] - 5s 82us/sample - loss: 0.0383 - accuracy: 0.9878 - val_loss: 0.0279 - val_accuracy: 0.9911\n",
            "Epoch 8/10\n",
            "59648/60000 [============================>.] - ETA: 0s - loss: 0.0336 - accuracy: 0.9891\n",
            "Epoch 00008: saving model to /content/drive/My Drive/DSAI/MNIST/epoch:008.hdf5\n",
            "60000/60000 [==============================] - 4s 72us/sample - loss: 0.0340 - accuracy: 0.9890 - val_loss: 0.0257 - val_accuracy: 0.9918\n",
            "Epoch 9/10\n",
            "59904/60000 [============================>.] - ETA: 0s - loss: 0.0281 - accuracy: 0.9904\n",
            "Epoch 00009: saving model to /content/drive/My Drive/DSAI/MNIST/epoch:009.hdf5\n",
            "60000/60000 [==============================] - 5s 88us/sample - loss: 0.0281 - accuracy: 0.9904 - val_loss: 0.0282 - val_accuracy: 0.9910\n",
            "Epoch 10/10\n",
            "59648/60000 [============================>.] - ETA: 0s - loss: 0.0273 - accuracy: 0.9915\n",
            "Epoch 00010: saving model to /content/drive/My Drive/DSAI/MNIST/epoch:010.hdf5\n",
            "60000/60000 [==============================] - 4s 73us/sample - loss: 0.0273 - accuracy: 0.9915 - val_loss: 0.0279 - val_accuracy: 0.9911\n"
          ],
          "name": "stdout"
        }
      ]
    },
    {
      "cell_type": "code",
      "metadata": {
        "id": "djHc-vtA6Cex",
        "colab_type": "code",
        "colab": {
          "base_uri": "https://localhost:8080/",
          "height": 285
        },
        "outputId": "3b400bfc-c5e9-4482-f0ee-88b8b8e1dfc3"
      },
      "source": [
        "losses = pd.DataFrame(model.history.history)\n",
        "losses[['loss', 'val_loss']].plot()"
      ],
      "execution_count": null,
      "outputs": [
        {
          "output_type": "execute_result",
          "data": {
            "text/plain": [
              "<matplotlib.axes._subplots.AxesSubplot at 0x7f8946477a90>"
            ]
          },
          "metadata": {
            "tags": []
          },
          "execution_count": 73
        },
        {
          "output_type": "display_data",
          "data": {
            "image/png": "[encoded data removed]",
            "text/plain": [
              "<Figure size 432x288 with 1 Axes>"
            ]
          },
          "metadata": {
            "tags": []
          }
        }
      ]
    },
    {
      "cell_type": "code",
      "metadata": {
        "id": "wengoQkOu1UW",
        "colab_type": "code",
        "colab": {
          "base_uri": "https://localhost:8080/",
          "height": 50
        },
        "outputId": "378852e8-81d3-4d56-fe2b-df2bac003d4f"
      },
      "source": [
        "model.evaluate(X_test, y_test)"
      ],
      "execution_count": null,
      "outputs": [
        {
          "output_type": "stream",
          "text": [
            "10000/10000 [==============================] - 1s 86us/sample - loss: 0.0279 - accuracy: 0.9911\n"
          ],
          "name": "stdout"
        },
        {
          "output_type": "execute_result",
          "data": {
            "text/plain": [
              "[0.02792717568554358, 0.9911]"
            ]
          },
          "metadata": {
            "tags": []
          },
          "execution_count": 74
        }
      ]
    },
    {
      "cell_type": "code",
      "metadata": {
        "id": "7Xd4ylsY0hpe",
        "colab_type": "code",
        "colab": {}
      },
      "source": [
        "model.load_weights('/content/drive/My Drive/DSAI/MNIST/epoch:010.hdf5')"
      ],
      "execution_count": null,
      "outputs": []
    }
  ]
}