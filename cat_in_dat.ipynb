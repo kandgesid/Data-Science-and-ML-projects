{
  "nbformat": 4,
  "nbformat_minor": 0,
  "metadata": {
    "kernelspec": {
      "display_name": "Python 3",
      "language": "python",
      "name": "python3"
    },
    "language_info": {
      "codemirror_mode": {
        "name": "ipython",
        "version": 3
      },
      "file_extension": ".py",
      "mimetype": "text/x-python",
      "name": "python",
      "nbconvert_exporter": "python",
      "pygments_lexer": "ipython3",
      "version": "3.7.1"
    },
    "colab": {
      "name": "cat_in_dat.ipynb",
      "provenance": [],
      "include_colab_link": true
    }
  },
  "cells": [
    {
      "cell_type": "markdown",
      "metadata": {
        "id": "view-in-github",
        "colab_type": "text"
      },
      "source": [
        "<a href=\"https://colab.research.google.com/github/kandgesid/Data-Science-and-ML-projects/blob/master/cat_in_dat.ipynb\" target=\"_parent\"><img src=\"https://colab.research.google.com/assets/colab-badge.svg\" alt=\"Open In Colab\"/></a>"
      ]
    },
    {
      "cell_type": "code",
      "metadata": {
        "_cell_guid": "b1076dfc-b9ad-4769-8c92-a6c4dae69d19",
        "_uuid": "8f2839f25d086af736a60e9eeb907d3b93b6e0e5",
        "id": "ThkIfW5SVtwx",
        "colab_type": "code",
        "colab": {}
      },
      "source": [
        "# This Python 3 environment comes with many helpful analytics libraries installed\n",
        "# It is defined by the kaggle/python docker image: https://github.com/kaggle/docker-python\n",
        "# For example, here's several helpful packages to load in \n",
        "\n",
        "import numpy as np # linear algebra\n",
        "import pandas as pd # data processing, CSV file I/O (e.g. pd.read_csv)\n",
        "\n",
        "# Input data files are available in the \"../input/\" directory.\n",
        "# For example, running this (by clicking run or pressing Shift+Enter) will list all files under the input directory\n",
        "\n",
        "import os\n",
        "for dirname, _, filenames in os.walk('/kaggle/input'):\n",
        "    for filename in filenames:\n",
        "        print(os.path.join(dirname, filename))\n",
        "\n",
        "# Any results you write to the current directory are saved as output."
      ],
      "execution_count": null,
      "outputs": []
    },
    {
      "cell_type": "code",
      "metadata": {
        "_cell_guid": "79c7e3d0-c299-4dcb-8224-4455121ee9b0",
        "_uuid": "d629ff2d2480ee46fbb7e2d37f6b5fab8052498a",
        "id": "Qn_b24ffVtw7",
        "colab_type": "code",
        "colab": {}
      },
      "source": [
        "df_train = pd.read_csv(\"/kaggle/input/cat-in-the-dat/train.csv\")\n",
        "df_test = pd.read_csv(\"/kaggle/input/cat-in-the-dat/test.csv\")"
      ],
      "execution_count": null,
      "outputs": []
    },
    {
      "cell_type": "code",
      "metadata": {
        "id": "Te0KQDQfVtxG",
        "colab_type": "code",
        "colab": {}
      },
      "source": [
        "df_train.shape\n",
        "df_train.head()"
      ],
      "execution_count": null,
      "outputs": []
    },
    {
      "cell_type": "code",
      "metadata": {
        "id": "JWvjDG-WVtxY",
        "colab_type": "code",
        "colab": {}
      },
      "source": [
        "df_test.head()"
      ],
      "execution_count": null,
      "outputs": []
    },
    {
      "cell_type": "code",
      "metadata": {
        "id": "LSObBX_iVtxg",
        "colab_type": "code",
        "colab": {}
      },
      "source": [
        "df_target = df_train.pop('target')\n",
        "train_id = df_train.pop(\"id\")\n",
        "test_id = df_test.pop(\"id\")"
      ],
      "execution_count": null,
      "outputs": []
    },
    {
      "cell_type": "code",
      "metadata": {
        "id": "-JhmYLzBVtxn",
        "colab_type": "code",
        "colab": {}
      },
      "source": [
        "df_test.shape"
      ],
      "execution_count": null,
      "outputs": []
    },
    {
      "cell_type": "markdown",
      "metadata": {
        "id": "HqdaLRC_Vtxw",
        "colab_type": "text"
      },
      "source": [
        "Making copy of original data"
      ]
    },
    {
      "cell_type": "code",
      "metadata": {
        "id": "vhJ0CF4lVtxx",
        "colab_type": "code",
        "colab": {}
      },
      "source": [
        "copy_df_train = df_train.copy()\n",
        "copy_df_valid = df_test.copy()"
      ],
      "execution_count": null,
      "outputs": []
    },
    {
      "cell_type": "markdown",
      "metadata": {
        "id": "R0VXKdVPVtyB",
        "colab_type": "text"
      },
      "source": [
        "collecting all categorical col"
      ]
    },
    {
      "cell_type": "code",
      "metadata": {
        "id": "hrkRqHrcVtyD",
        "colab_type": "code",
        "colab": {}
      },
      "source": [
        "s = (df_train.dtypes == 'object')\n",
        "object_cols = list(s[s].index)\n",
        "\n",
        "print(\"Categorical variables:\")\n",
        "print(object_cols)"
      ],
      "execution_count": null,
      "outputs": []
    },
    {
      "cell_type": "code",
      "metadata": {
        "id": "lp-He0azVtyJ",
        "colab_type": "code",
        "colab": {}
      },
      "source": [
        "object_nunique = list(map(lambda col: df_train[col].nunique(), object_cols))\n",
        "d = dict(zip(object_cols, object_nunique))\n",
        "#sorting in asceding order\n",
        "sorted(d.items(), key=lambda x: x[1])"
      ],
      "execution_count": null,
      "outputs": []
    },
    {
      "cell_type": "code",
      "metadata": {
        "id": "FnHg6OD5VtyO",
        "colab_type": "code",
        "colab": {}
      },
      "source": [
        "low_cardinality_cols = [col for col in object_cols if df_train[col].nunique() < 15]\n",
        "\n",
        "# Columns that will be dropped from the dataset\n",
        "high_cardinality_cols = list(set(object_cols)-set(low_cardinality_cols))\n",
        "\n",
        "print('Categorical columns that will be one-hot encoded:', low_cardinality_cols)\n",
        "print('\\nCategorical columns that will be dropped from the dataset:', high_cardinality_cols)"
      ],
      "execution_count": null,
      "outputs": []
    },
    {
      "cell_type": "code",
      "metadata": {
        "id": "qJ7Gb4ztVtyR",
        "colab_type": "code",
        "colab": {}
      },
      "source": [
        "# we have apply label encoding on high caedinality\n",
        "# Columns that can be safely label encoded\n",
        "good_label_cols = [col for col in high_cardinality_cols if \n",
        "                   set(df_train[col]) == set(df_test[col])]\n",
        "        \n",
        "# Problematic columns that will be dropped from the dataset\n",
        "bad_label_cols = list(set(high_cardinality_cols)-set(good_label_cols))\n",
        "        \n",
        "print('Categorical columns that will be label encoded:', good_label_cols)\n",
        "print('\\nCategorical columns that will be dropped from the dataset:', bad_label_cols)"
      ],
      "execution_count": null,
      "outputs": []
    },
    {
      "cell_type": "code",
      "metadata": {
        "id": "IfMciSYdVtyW",
        "colab_type": "code",
        "colab": {}
      },
      "source": [
        "from sklearn.preprocessing import LabelEncoder\n",
        "\n",
        "# Drop categorical columns that will not be encoded\n",
        "df_train = df_train.drop(bad_label_cols, axis=1)\n",
        "df_test = df_test.drop(bad_label_cols, axis=1)\n",
        "\n",
        "# Apply label encoder\n",
        "label_encoder = LabelEncoder()\n",
        "for col in set(good_label_cols):\n",
        "    df_train[col] = label_encoder.fit_transform(df_train[col])\n",
        "    df_test[col] = label_encoder.transform(df_test[col])"
      ],
      "execution_count": null,
      "outputs": []
    },
    {
      "cell_type": "code",
      "metadata": {
        "id": "7YD08hOFVtya",
        "colab_type": "code",
        "colab": {}
      },
      "source": [
        "df_test.shape"
      ],
      "execution_count": null,
      "outputs": []
    },
    {
      "cell_type": "code",
      "metadata": {
        "id": "OEIBxadCVtyd",
        "colab_type": "code",
        "colab": {}
      },
      "source": [
        "df_train.head()"
      ],
      "execution_count": null,
      "outputs": []
    },
    {
      "cell_type": "code",
      "metadata": {
        "id": "x7Q0CJfZVtyh",
        "colab_type": "code",
        "colab": {}
      },
      "source": [
        "from sklearn.preprocessing import OneHotEncoder\n",
        "\n",
        "# Apply one-hot encoder to each column with categorical data\n",
        "OH_encoder = OneHotEncoder(handle_unknown='ignore', sparse=False)\n",
        "OH_cols_train = pd.DataFrame(OH_encoder.fit_transform(df_train[low_cardinality_cols]))\n",
        "OH_cols_test = pd.DataFrame(OH_encoder.transform(df_test[low_cardinality_cols]))\n",
        "\n",
        "# One-hot encoding removed index; put it back\n",
        "OH_cols_train.index = df_train.index\n",
        "OH_cols_test.index = df_test.index\n",
        "\n",
        "# Remove low cardinality categorical columns (will replace with one-hot encoding)\n",
        "num_df_train = df_train.drop(low_cardinality_cols, axis=1)\n",
        "num_df_test = df_test.drop(low_cardinality_cols, axis=1)\n",
        "\n",
        "# Add one-hot encoded columns to numerical features\n",
        "OH_df_train = pd.concat([num_df_train, OH_cols_train], axis=1)\n",
        "OH_df_test = pd.concat([num_df_test, OH_cols_test], axis=1)"
      ],
      "execution_count": null,
      "outputs": []
    },
    {
      "cell_type": "code",
      "metadata": {
        "id": "G2ui4NPhVty0",
        "colab_type": "code",
        "colab": {}
      },
      "source": [
        "OH_df_train.shape"
      ],
      "execution_count": null,
      "outputs": []
    },
    {
      "cell_type": "code",
      "metadata": {
        "id": "CPfCePjEVtzC",
        "colab_type": "code",
        "colab": {}
      },
      "source": [
        "OH_df_train.shape\n",
        "#OH_df_test.head()\n",
        "OH_df_train.drop([\"bin_0\"], axis=1, inplace=True)\n",
        "OH_df_test.drop([\"bin_0\"], axis=1, inplace=True)"
      ],
      "execution_count": null,
      "outputs": []
    },
    {
      "cell_type": "code",
      "metadata": {
        "id": "9dDWSfUjVtzK",
        "colab_type": "code",
        "colab": {}
      },
      "source": [
        "from sklearn.linear_model import LogisticRegression\n",
        "from sklearn.metrics import accuracy_score\n",
        "from sklearn.metrics import roc_auc_score\n",
        "\n",
        "\"\"\"def logistic(X,y):\n",
        "    X_train,X_test,y_train,y_test=train_test_split(X,y,random_state=42,test_size=0.2)\n",
        "    lr=LogisticRegression()\n",
        "    lr.fit(OH_df_train,df_target)\n",
        "    y_pre=lr.predict(df_test)\n",
        "    print('Accuracy : ',accuracy_score(y_test,y_pre))\"\"\"\n",
        "lr = LogisticRegression(C=0.14,solver=\"lbfgs\",max_iter=5000)\n",
        "\n",
        "lr.fit(OH_df_train, df_target)\n",
        "\n",
        "pred = lr.predict_proba(OH_df_train)[:, 1]\n",
        "score = roc_auc_score(df_target,pred)\n",
        "\n",
        "print(score)"
      ],
      "execution_count": null,
      "outputs": []
    },
    {
      "cell_type": "code",
      "metadata": {
        "id": "sL4qCZTgVtzQ",
        "colab_type": "code",
        "colab": {}
      },
      "source": [
        "OH_df_test.head()"
      ],
      "execution_count": null,
      "outputs": []
    },
    {
      "cell_type": "code",
      "metadata": {
        "id": "2I3XoTEkVtzj",
        "colab_type": "code",
        "colab": {}
      },
      "source": [
        "submission = pd.DataFrame()\n",
        "submission[\"id\"] = test_id\n",
        "submission[\"target\"] = lr.predict_proba(OH_df_test)[:, 1]"
      ],
      "execution_count": null,
      "outputs": []
    },
    {
      "cell_type": "code",
      "metadata": {
        "id": "FVZTEeSMVtzw",
        "colab_type": "code",
        "colab": {}
      },
      "source": [
        "submission.head()"
      ],
      "execution_count": null,
      "outputs": []
    }
  ]
}