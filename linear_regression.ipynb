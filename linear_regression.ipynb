{
  "nbformat": 4,
  "nbformat_minor": 0,
  "metadata": {
    "kernelspec": {
      "display_name": "Python 3",
      "language": "python",
      "name": "python3"
    },
    "language_info": {
      "codemirror_mode": {
        "name": "ipython",
        "version": 3
      },
      "file_extension": ".py",
      "mimetype": "text/x-python",
      "name": "python",
      "nbconvert_exporter": "python",
      "pygments_lexer": "ipython3",
      "version": "3.7.1"
    },
    "colab": {
      "name": "linear regression.ipynb",
      "provenance": [],
      "include_colab_link": true
    }
  },
  "cells": [
    {
      "cell_type": "markdown",
      "metadata": {
        "id": "view-in-github",
        "colab_type": "text"
      },
      "source": [
        "<a href=\"https://colab.research.google.com/github/kandgesid/Data-Science-and-ML-projects/blob/master/linear_regression.ipynb\" target=\"_parent\"><img src=\"https://colab.research.google.com/assets/colab-badge.svg\" alt=\"Open In Colab\"/></a>"
      ]
    },
    {
      "cell_type": "code",
      "metadata": {
        "id": "YyVVBoX9WkXD",
        "colab_type": "code",
        "colab": {}
      },
      "source": [
        "import numpy as np\n",
        "import pandas as pd\n",
        "import matplotlib.pyplot as plt"
      ],
      "execution_count": null,
      "outputs": []
    },
    {
      "cell_type": "code",
      "metadata": {
        "id": "luZ96wUSWkXJ",
        "colab_type": "code",
        "colab": {},
        "outputId": "cf49e161-3c1e-4289-90fc-86673c5e06fa"
      },
      "source": [
        "data = pd.read_csv(\"C:\\\\Users\\\\siddhant\\\\Desktop\\\\data\\\\machine-learning-ex1\\\\ex1\\\\ex1data1.txt\")\n",
        "data = np.array(data)\n",
        "X = data[:,0:1]\n",
        "Y = data[:,-1:]\n",
        "print(X)\n",
        "print(Y)\n",
        "X.shape\n"
      ],
      "execution_count": null,
      "outputs": [
        {
          "output_type": "stream",
          "text": [
            "[[ 5.5277]\n",
            " [ 8.5186]\n",
            " [ 7.0032]\n",
            " [ 5.8598]\n",
            " [ 8.3829]\n",
            " [ 7.4764]\n",
            " [ 8.5781]\n",
            " [ 6.4862]\n",
            " [ 5.0546]\n",
            " [ 5.7107]\n",
            " [14.164 ]\n",
            " [ 5.734 ]\n",
            " [ 8.4084]\n",
            " [ 5.6407]\n",
            " [ 5.3794]\n",
            " [ 6.3654]\n",
            " [ 5.1301]\n",
            " [ 6.4296]\n",
            " [ 7.0708]\n",
            " [ 6.1891]\n",
            " [20.27  ]\n",
            " [ 5.4901]\n",
            " [ 6.3261]\n",
            " [ 5.5649]\n",
            " [18.945 ]\n",
            " [12.828 ]\n",
            " [10.957 ]\n",
            " [13.176 ]\n",
            " [22.203 ]\n",
            " [ 5.2524]\n",
            " [ 6.5894]\n",
            " [ 9.2482]\n",
            " [ 5.8918]\n",
            " [ 8.2111]\n",
            " [ 7.9334]\n",
            " [ 8.0959]\n",
            " [ 5.6063]\n",
            " [12.836 ]\n",
            " [ 6.3534]\n",
            " [ 5.4069]\n",
            " [ 6.8825]\n",
            " [11.708 ]\n",
            " [ 5.7737]\n",
            " [ 7.8247]\n",
            " [ 7.0931]\n",
            " [ 5.0702]\n",
            " [ 5.8014]\n",
            " [11.7   ]\n",
            " [ 5.5416]\n",
            " [ 7.5402]\n",
            " [ 5.3077]\n",
            " [ 7.4239]\n",
            " [ 7.6031]\n",
            " [ 6.3328]\n",
            " [ 6.3589]\n",
            " [ 6.2742]\n",
            " [ 5.6397]\n",
            " [ 9.3102]\n",
            " [ 9.4536]\n",
            " [ 8.8254]\n",
            " [ 5.1793]\n",
            " [21.279 ]\n",
            " [14.908 ]\n",
            " [18.959 ]\n",
            " [ 7.2182]\n",
            " [ 8.2951]\n",
            " [10.236 ]\n",
            " [ 5.4994]\n",
            " [20.341 ]\n",
            " [10.136 ]\n",
            " [ 7.3345]\n",
            " [ 6.0062]\n",
            " [ 7.2259]\n",
            " [ 5.0269]\n",
            " [ 6.5479]\n",
            " [ 7.5386]\n",
            " [ 5.0365]\n",
            " [10.274 ]\n",
            " [ 5.1077]\n",
            " [ 5.7292]\n",
            " [ 5.1884]\n",
            " [ 6.3557]\n",
            " [ 9.7687]\n",
            " [ 6.5159]\n",
            " [ 8.5172]\n",
            " [ 9.1802]\n",
            " [ 6.002 ]\n",
            " [ 5.5204]\n",
            " [ 5.0594]\n",
            " [ 5.7077]\n",
            " [ 7.6366]\n",
            " [ 5.8707]\n",
            " [ 5.3054]\n",
            " [ 8.2934]\n",
            " [13.394 ]\n",
            " [ 5.4369]]\n",
            "[[ 9.1302 ]\n",
            " [13.662  ]\n",
            " [11.854  ]\n",
            " [ 6.8233 ]\n",
            " [11.886  ]\n",
            " [ 4.3483 ]\n",
            " [12.     ]\n",
            " [ 6.5987 ]\n",
            " [ 3.8166 ]\n",
            " [ 3.2522 ]\n",
            " [15.505  ]\n",
            " [ 3.1551 ]\n",
            " [ 7.2258 ]\n",
            " [ 0.71618]\n",
            " [ 3.5129 ]\n",
            " [ 5.3048 ]\n",
            " [ 0.56077]\n",
            " [ 3.6518 ]\n",
            " [ 5.3893 ]\n",
            " [ 3.1386 ]\n",
            " [21.767  ]\n",
            " [ 4.263  ]\n",
            " [ 5.1875 ]\n",
            " [ 3.0825 ]\n",
            " [22.638  ]\n",
            " [13.501  ]\n",
            " [ 7.0467 ]\n",
            " [14.692  ]\n",
            " [24.147  ]\n",
            " [-1.22   ]\n",
            " [ 5.9966 ]\n",
            " [12.134  ]\n",
            " [ 1.8495 ]\n",
            " [ 6.5426 ]\n",
            " [ 4.5623 ]\n",
            " [ 4.1164 ]\n",
            " [ 3.3928 ]\n",
            " [10.117  ]\n",
            " [ 5.4974 ]\n",
            " [ 0.55657]\n",
            " [ 3.9115 ]\n",
            " [ 5.3854 ]\n",
            " [ 2.4406 ]\n",
            " [ 6.7318 ]\n",
            " [ 1.0463 ]\n",
            " [ 5.1337 ]\n",
            " [ 1.844  ]\n",
            " [ 8.0043 ]\n",
            " [ 1.0179 ]\n",
            " [ 6.7504 ]\n",
            " [ 1.8396 ]\n",
            " [ 4.2885 ]\n",
            " [ 4.9981 ]\n",
            " [ 1.4233 ]\n",
            " [-1.4211 ]\n",
            " [ 2.4756 ]\n",
            " [ 4.6042 ]\n",
            " [ 3.9624 ]\n",
            " [ 5.4141 ]\n",
            " [ 5.1694 ]\n",
            " [-0.74279]\n",
            " [17.929  ]\n",
            " [12.054  ]\n",
            " [17.054  ]\n",
            " [ 4.8852 ]\n",
            " [ 5.7442 ]\n",
            " [ 7.7754 ]\n",
            " [ 1.0173 ]\n",
            " [20.992  ]\n",
            " [ 6.6799 ]\n",
            " [ 4.0259 ]\n",
            " [ 1.2784 ]\n",
            " [ 3.3411 ]\n",
            " [-2.6807 ]\n",
            " [ 0.29678]\n",
            " [ 3.8845 ]\n",
            " [ 5.7014 ]\n",
            " [ 6.7526 ]\n",
            " [ 2.0576 ]\n",
            " [ 0.47953]\n",
            " [ 0.20421]\n",
            " [ 0.67861]\n",
            " [ 7.5435 ]\n",
            " [ 5.3436 ]\n",
            " [ 4.2415 ]\n",
            " [ 6.7981 ]\n",
            " [ 0.92695]\n",
            " [ 0.152  ]\n",
            " [ 2.8214 ]\n",
            " [ 1.8451 ]\n",
            " [ 4.2959 ]\n",
            " [ 7.2029 ]\n",
            " [ 1.9869 ]\n",
            " [ 0.14454]\n",
            " [ 9.0551 ]\n",
            " [ 0.61705]]\n"
          ],
          "name": "stdout"
        },
        {
          "output_type": "execute_result",
          "data": {
            "text/plain": [
              "(96, 1)"
            ]
          },
          "metadata": {
            "tags": []
          },
          "execution_count": 77
        }
      ]
    },
    {
      "cell_type": "code",
      "metadata": {
        "id": "GeGksggMWkXR",
        "colab_type": "code",
        "colab": {},
        "outputId": "116d865a-078e-41a6-f0f9-20c70f7ee72c"
      },
      "source": [
        "plt.scatter(X.transpose(),Y.transpose(),40,color=\"red\",marker=\"x\")\n",
        "plt.xlabel(\"population in 10000's\")\n",
        "plt.ylabel(\"profit in 10000 $\")\n",
        "plt.show()"
      ],
      "execution_count": null,
      "outputs": [
        {
          "output_type": "display_data",
          "data": {
            "image/png": "[encoded data removed]",
            "text/plain": [
              "<Figure size 432x288 with 1 Axes>"
            ]
          },
          "metadata": {
            "tags": [],
            "needs_background": "light"
          }
        }
      ]
    },
    {
      "cell_type": "code",
      "metadata": {
        "id": "r2WAWWToWkXj",
        "colab_type": "code",
        "colab": {}
      },
      "source": [
        "theta = np.random.rand(1,2)\n",
        "m,n = X.shape\n",
        "x_bias = np.ones((m,2))\n",
        "x_bias[:,-1:] = X"
      ],
      "execution_count": null,
      "outputs": []
    },
    {
      "cell_type": "code",
      "metadata": {
        "id": "O52hgAJ5WkXs",
        "colab_type": "code",
        "colab": {}
      },
      "source": [
        "def cost(x_bias,Y,theta):\n",
        "    m,n = X.shape\n",
        "    hypothesis = x_bias.dot(theta.tranpose())\n",
        "    return (1/(2.0*m)*(np.square(hypothesis - Y)).sum(axis = 0))"
      ],
      "execution_count": null,
      "outputs": []
    },
    {
      "cell_type": "code",
      "metadata": {
        "id": "_MPOjzymWkX0",
        "colab_type": "code",
        "colab": {}
      },
      "source": [
        "def gredient_descent(x_bias, Y, theta, alpha, iteration):\n",
        "    count = 1\n",
        "    while(count<=iteration):\n",
        "        hypothesis = x_bias.dot(theta.transpose())\n",
        "        temp0 = theta[0,0] - alpha*(1.0/m)*((hypothesis - Y)*(x_bias[::,0:1])).sum(axis = 0)\n",
        "        temp1 = theta[0,1] - alpha*(1.0/m)*((hypothesis - Y)*(x_bias[::,-1:])).sum(axis = 0)\n",
        "        theta[0,0] = temp0\n",
        "        theta[0,1] = temp1\n",
        "        count = count + 1\n",
        "    return theta    "
      ],
      "execution_count": null,
      "outputs": []
    },
    {
      "cell_type": "code",
      "metadata": {
        "id": "UgLWa_HYWkX8",
        "colab_type": "code",
        "colab": {},
        "outputId": "1741ab7f-b545-4397-a60f-433e0b53a794"
      },
      "source": [
        "alpha = 0.01\n",
        "iteration = 2000\n",
        "theta = gredient_descent(x_bias, Y, theta, alpha, iteration)\n",
        "print(theta)"
      ],
      "execution_count": null,
      "outputs": [
        {
          "output_type": "stream",
          "text": [
            "[[-4.21141472  1.21353831]]\n"
          ],
          "name": "stdout"
        }
      ]
    },
    {
      "cell_type": "code",
      "metadata": {
        "id": "Gue1VCx8WkYC",
        "colab_type": "code",
        "colab": {},
        "outputId": "7d1892e5-f0c8-4caf-ff7a-757ebd0a6195"
      },
      "source": [
        "x_predict = np.array([[1,3.5],[1, 7.5],[1,10.5]])\n",
        "hypothesis = x_predict.dot(theta.transpose())\n",
        "hypothesis"
      ],
      "execution_count": null,
      "outputs": [
        {
          "output_type": "execute_result",
          "data": {
            "text/plain": [
              "array([[0.03596937],\n",
              "       [4.89012261],\n",
              "       [8.53073755]])"
            ]
          },
          "metadata": {
            "tags": []
          },
          "execution_count": 92
        }
      ]
    },
    {
      "cell_type": "code",
      "metadata": {
        "id": "DaU3mDOvWkYP",
        "colab_type": "code",
        "colab": {},
        "outputId": "1002b9fc-9a68-44c6-ba4d-9ce8bcebb9ed"
      },
      "source": [
        "plt.scatter(X.transpose(),Y.transpose(),40,color=\"red\",marker=\"x\")\n",
        "X_axis = X\n",
        "Y_axis = x_bias.dot(theta.transpose())\n",
        "plt.plot(X_axis,Y_axis)\n",
        "plt.xlabel(\"population in 10000's\")\n",
        "plt.ylabel(\"profit in 10000 $\")\n",
        "plt.show()"
      ],
      "execution_count": null,
      "outputs": [
        {
          "output_type": "display_data",
          "data": {
            "image/png": "[encoded data removed]",
            "text/plain": [
              "<Figure size 432x288 with 1 Axes>"
            ]
          },
          "metadata": {
            "tags": [],
            "needs_background": "light"
          }
        }
      ]
    },
    {
      "cell_type": "code",
      "metadata": {
        "id": "QRZrcEx3WkYd",
        "colab_type": "code",
        "colab": {}
      },
      "source": [
        ""
      ],
      "execution_count": null,
      "outputs": []
    },
    {
      "cell_type": "code",
      "metadata": {
        "id": "SNJXyVooWkYm",
        "colab_type": "code",
        "colab": {}
      },
      "source": [
        ""
      ],
      "execution_count": null,
      "outputs": []
    }
  ]
}