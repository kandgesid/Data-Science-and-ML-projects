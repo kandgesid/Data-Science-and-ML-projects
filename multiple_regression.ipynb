{
  "nbformat": 4,
  "nbformat_minor": 0,
  "metadata": {
    "kernelspec": {
      "display_name": "Python 3",
      "language": "python",
      "name": "python3"
    },
    "language_info": {
      "codemirror_mode": {
        "name": "ipython",
        "version": 3
      },
      "file_extension": ".py",
      "mimetype": "text/x-python",
      "name": "python",
      "nbconvert_exporter": "python",
      "pygments_lexer": "ipython3",
      "version": "3.7.1"
    },
    "colab": {
      "name": "multiple regression.ipynb",
      "provenance": [],
      "include_colab_link": true
    }
  },
  "cells": [
    {
      "cell_type": "markdown",
      "metadata": {
        "id": "view-in-github",
        "colab_type": "text"
      },
      "source": [
        "<a href=\"https://colab.research.google.com/github/kandgesid/Data-Science-and-ML-projects/blob/master/multiple_regression.ipynb\" target=\"_parent\"><img src=\"https://colab.research.google.com/assets/colab-badge.svg\" alt=\"Open In Colab\"/></a>"
      ]
    },
    {
      "cell_type": "code",
      "metadata": {
        "id": "Gw2P9GBsWdS1",
        "colab_type": "code",
        "colab": {}
      },
      "source": [
        "import numpy as np\n",
        "import pandas as pd\n",
        "import matplotlib.pyplot as plt\n",
        "np.set_printoptions(suppress=True) \n",
        "from ipykernel import kernelapp as app"
      ],
      "execution_count": null,
      "outputs": []
    },
    {
      "cell_type": "code",
      "metadata": {
        "id": "pacgsm1RWdS6",
        "colab_type": "code",
        "colab": {}
      },
      "source": [
        "data = pd.read_csv(\"C:\\\\Users\\\\siddhant\\\\Desktop\\\\data\\\\machine-learning-ex1\\\\ex1\\\\ex1data2.txt\",dtype=np.float64)\n",
        "data = np.array(data)\n",
        "x = data[:,0:2]\n",
        "y = data[:,-1:]\n",
        "#print(x,y)\n",
        "#x.shape"
      ],
      "execution_count": null,
      "outputs": []
    },
    {
      "cell_type": "code",
      "metadata": {
        "id": "R2TNZ0JmWdTI",
        "colab_type": "code",
        "colab": {},
        "outputId": "d1d9ab58-a2d3-4c16-f30c-bec378b2dc20"
      },
      "source": [
        "plt.figure(figsize = (15,4),dpi=100)\n",
        "plt.subplot(121)\n",
        "plt.scatter(x[::,0:1],y)\n",
        "plt.xlabel(\"Size of house (X1)\")\n",
        "plt.ylabel(\"Price (Y)\")\n",
        "plt.subplot(122)\n",
        "plt.scatter(x[::,-1:],y)\n",
        "plt.xlabel(\"Number of Bedrooms (X2)\")\n",
        "plt.ylabel(\"Price (Y)\")\n",
        "plt.show()\n"
      ],
      "execution_count": null,
      "outputs": [
        {
          "output_type": "display_data",
          "data": {
            "image/png": "[encoded data removed]",
            "text/plain": [
              "<Figure size 1500x400 with 2 Axes>"
            ]
          },
          "metadata": {
            "tags": [],
            "needs_background": "light"
          }
        }
      ]
    },
    {
      "cell_type": "code",
      "metadata": {
        "id": "spL3uUeiWdTP",
        "colab_type": "code",
        "colab": {},
        "outputId": "92dd4561-666f-46b8-847b-adeca42a3ebb"
      },
      "source": [
        "theta = np.random.rand(1,3)\n",
        "m,n = x.shape\n",
        "x_bias = np.ones((m,n+1))\n",
        "x_bias[::,1:] = x\n",
        "print(\"X_bias = \\n\",x_bias[0:5,:])\n",
        "print(\"Y = \\n\",y[0:5,::])"
      ],
      "execution_count": null,
      "outputs": [
        {
          "output_type": "stream",
          "text": [
            "X_bias = \n",
            " [[   1. 1600.    3.]\n",
            " [   1. 2400.    3.]\n",
            " [   1. 1416.    2.]\n",
            " [   1. 3000.    4.]\n",
            " [   1. 1985.    4.]]\n",
            "Y = \n",
            " [[329900.]\n",
            " [369000.]\n",
            " [232000.]\n",
            " [539900.]\n",
            " [299900.]]\n"
          ],
          "name": "stdout"
        }
      ]
    },
    {
      "cell_type": "code",
      "metadata": {
        "id": "DGCO4rL0WdTS",
        "colab_type": "code",
        "colab": {},
        "outputId": "5df2f1ee-e3ad-4d86-9ef4-5ce1d4568a6d"
      },
      "source": [
        "#feature scaling\n",
        "mean_size = np.mean(x_bias[::,1:2])\n",
        "std_size = np.std(x_bias[::,1:2])\n",
        "mean_bedroom = np.mean(x_bias[::,2:])\n",
        "std_bedroom = np.std(x_bias[::,2:])\n",
        "x_bias[::,1:2] = (x_bias[::,1:2] - mean_size)/(std_size)\n",
        "x_bias[::,2:] = (x_bias[::,2:] - mean_bedroom)/(std_bedroom)\n",
        "print(x_bias,y)"
      ],
      "execution_count": null,
      "outputs": [
        {
          "output_type": "stream",
          "text": [
            "[[ 1.         -0.50145768 -0.22866478]\n",
            " [ 1.          0.50539755 -0.22866478]\n",
            " [ 1.         -0.73303438 -1.54348727]\n",
            " [ 1.          1.26053896  1.08615771]\n",
            " [ 1.         -0.0169086   1.08615771]\n",
            " [ 1.         -0.58452323 -0.22866478]\n",
            " [ 1.         -0.71919012 -0.22866478]\n",
            " [ 1.         -0.77834286 -0.22866478]\n",
            " [ 1.         -0.634866   -0.22866478]\n",
            " [ 1.         -0.07354421  1.08615771]\n",
            " [ 1.          0.00196993 -0.22866478]\n",
            " [ 1.         -0.13647266 -0.22866478]\n",
            " [ 1.          3.12070399  2.40098019]\n",
            " [ 1.         -0.9193026  -0.22866478]\n",
            " [ 1.          0.37954064  1.08615771]\n",
            " [ 1.         -0.85385701 -1.54348727]\n",
            " [ 1.         -0.9595768  -0.22866478]\n",
            " [ 1.          0.76843847  1.08615771]\n",
            " [ 1.          1.2995546   1.08615771]\n",
            " [ 1.         -0.29127665 -0.22866478]\n",
            " [ 1.         -0.1389898  -1.54348727]\n",
            " [ 1.         -0.4964234  -0.22866478]\n",
            " [ 1.         -0.04585569  1.08615771]\n",
            " [ 1.          2.3806654  -0.22866478]\n",
            " [ 1.         -1.13074219 -0.22866478]\n",
            " [ 1.         -0.68017448 -0.22866478]\n",
            " [ 1.          0.66397724 -0.22866478]\n",
            " [ 1.          0.25368374 -0.22866478]\n",
            " [ 1.          0.80367841 -0.22866478]\n",
            " [ 1.         -0.20065968 -1.54348727]\n",
            " [ 1.         -1.2565991  -2.85830975]\n",
            " [ 1.          0.0523127   1.08615771]\n",
            " [ 1.          1.43296292 -0.22866478]\n",
            " [ 1.         -0.23589961  1.08615771]\n",
            " [ 1.         -0.70660443 -0.22866478]\n",
            " [ 1.         -0.9558011  -0.22866478]\n",
            " [ 1.          0.16810105  1.08615771]\n",
            " [ 1.          2.78970034  1.08615771]\n",
            " [ 1.          0.20585812  1.08615771]\n",
            " [ 1.         -0.42090926 -1.54348727]\n",
            " [ 1.          0.30150936 -0.22866478]\n",
            " [ 1.          0.71557857  1.08615771]\n",
            " [ 1.         -1.00488529 -0.22866478]\n",
            " [ 1.         -1.44286731 -1.54348727]\n",
            " [ 1.         -0.18429828  1.08615771]\n",
            " [ 1.         -1.00110958 -0.22866478]] [[329900.]\n",
            " [369000.]\n",
            " [232000.]\n",
            " [539900.]\n",
            " [299900.]\n",
            " [314900.]\n",
            " [198999.]\n",
            " [212000.]\n",
            " [242500.]\n",
            " [239999.]\n",
            " [347000.]\n",
            " [329999.]\n",
            " [699900.]\n",
            " [259900.]\n",
            " [449900.]\n",
            " [299900.]\n",
            " [199900.]\n",
            " [499998.]\n",
            " [599000.]\n",
            " [252900.]\n",
            " [255000.]\n",
            " [242900.]\n",
            " [259900.]\n",
            " [573900.]\n",
            " [249900.]\n",
            " [464500.]\n",
            " [469000.]\n",
            " [475000.]\n",
            " [299900.]\n",
            " [349900.]\n",
            " [169900.]\n",
            " [314900.]\n",
            " [579900.]\n",
            " [285900.]\n",
            " [249900.]\n",
            " [229900.]\n",
            " [345000.]\n",
            " [549000.]\n",
            " [287000.]\n",
            " [368500.]\n",
            " [329900.]\n",
            " [314000.]\n",
            " [299000.]\n",
            " [179900.]\n",
            " [299900.]\n",
            " [239500.]]\n"
          ],
          "name": "stdout"
        }
      ]
    },
    {
      "cell_type": "code",
      "metadata": {
        "id": "0UL0073zWdTV",
        "colab_type": "code",
        "colab": {}
      },
      "source": [
        "def cost(x_bias,y,theta):\n",
        "    m,n = x.shape\n",
        "    hypothesis = x_bias.dot(theta.transpose())\n",
        "    return (1/(2.0*m))*((np.square(hypothesis - y)).sum(axis = 0))"
      ],
      "execution_count": null,
      "outputs": []
    },
    {
      "cell_type": "code",
      "metadata": {
        "id": "Pm0kCf8aWdTc",
        "colab_type": "code",
        "colab": {}
      },
      "source": [
        "#gradient descent\n",
        "def gradient_descent(x_bias,y,theta,alpha,iteration):\n",
        "    count = 1\n",
        "    cost_log = np.array([])\n",
        "    while(count <= iteration):\n",
        "        hypothesis = x_bias.dot(theta.transpose())\n",
        "        theta[0,0] = theta[0,0] - alpha*(1.0/m)*((hypothesis - y)*(x_bias[::,0:1])).sum(axis=0)\n",
        "        theta[0,1] = theta[0,1] - alpha*(1.0/m)*((hypothesis - y)*(x_bias[::,1:2])).sum(axis=0)\n",
        "        theta[0,2] = theta[0,2] - alpha*(1.0/m)*((hypothesis - y)*(x_bias[::,2:])).sum(axis=0)\n",
        "        #theta[0,0] = temp0\n",
        "        #theta[0,1] = temp1\n",
        "        #theta[0,2] = temp2\n",
        "        cost_log = np.append(cost_log,cost(x_bias,y,theta))\n",
        "        count = count + 1\n",
        "    plt.plot(np.linspace(1,iteration,iteration,endpoint=True),cost_log)\n",
        "    plt.title(\"Iteration vs Cost graph \")\n",
        "    plt.xlabel(\"Number of iteration\")\n",
        "    plt.ylabel(\"Cost of Theta\")\n",
        "    plt.show()\n",
        "    return theta\n",
        "        "
      ],
      "execution_count": null,
      "outputs": []
    },
    {
      "cell_type": "code",
      "metadata": {
        "id": "0pa0yb-9WdTf",
        "colab_type": "code",
        "colab": {},
        "outputId": "afd475a3-63e5-461f-9784-3d474cbf2a61"
      },
      "source": [
        "alpha = 0.3\n",
        "iteration = 100\n",
        "theta = gradient_descent(x_bias,y,theta,alpha,iteration)\n",
        "print(theta)"
      ],
      "execution_count": null,
      "outputs": [
        {
          "output_type": "display_data",
          "data": {
            "image/png": "[encoded data removed]",
            "text/plain": [
              "<Figure size 432x288 with 1 Axes>"
            ]
          },
          "metadata": {
            "tags": [],
            "needs_background": "light"
          }
        },
        {
          "output_type": "stream",
          "text": [
            "[[339119.45652174 110248.8787409   -6226.18378776]]\n"
          ],
          "name": "stdout"
        }
      ]
    },
    {
      "cell_type": "code",
      "metadata": {
        "id": "nk1RmVB4WdTi",
        "colab_type": "code",
        "colab": {},
        "outputId": "e23e5db2-453b-40af-91b4-2339c3d0466d"
      },
      "source": [
        "X_predict = np.array([[1.0,1650.0,3],[1.0,1600.0,4]]) \n",
        "#feature scaling the data first\n",
        "X_predict[::,1:2] = (X_predict[::,1:2] - mean_size)/ (std_size) \n",
        "X_predict[::,2:] = (X_predict[::,2:]- mean_bedroom)/ (std_bedroom)\n",
        "hypothesis = X_predict.dot(theta.transpose())\n",
        "print(\"Cost of house with 1650 sq ft and 3 bedroom is and 1600 sq feet and 4 bedroom \",hypothesis)"
      ],
      "execution_count": null,
      "outputs": [
        {
          "output_type": "stream",
          "text": [
            "Cost of house with 1650 sq ft and 3 bedroom is and 1600 sq feet and 4 bedroom  [[292195.80995823]\n",
            " [277071.6922915 ]]\n"
          ],
          "name": "stdout"
        }
      ]
    }
  ]
}